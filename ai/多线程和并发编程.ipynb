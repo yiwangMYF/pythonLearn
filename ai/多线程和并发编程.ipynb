{
 "cells": [
  {
   "cell_type": "code",
   "execution_count": 12,
   "id": "998268ae-69b0-4b4a-802f-fec2187793d1",
   "metadata": {},
   "outputs": [
    {
     "name": "stdout",
     "output_type": "stream",
     "text": [
      "18740\n"
     ]
    },
    {
     "data": {
      "text/plain": [
       "<Process name='进程1' parent=18740 initial>"
      ]
     },
     "execution_count": 12,
     "metadata": {},
     "output_type": "execute_result"
    }
   ],
   "source": [
    "#操作进程python提供了multiprocessing\n",
    "'''\n",
    "1.创建进程使用Process类：Process(group=None, target=None, name=None, args=(), kwargs={},\n",
    "                 *, daemon=None)\n",
    "    - group:分组\n",
    "    - target:调用对象，即执行进程处理任务的函数\n",
    "    - name:指定进程名称\n",
    "    - args:调用对象的位置参数\n",
    "    - kwargs:调用对象的关键字参数\n",
    "    - daemon：是否是守护进程，守护进程会在其主进程结束后自动终止，默认为False\n",
    "2.multiprocessing.current_process()获取当前进程\n",
    "3.Process对象.pid()获取当前进程id\n",
    "'''\n",
    "import multiprocessing\n",
    "print(multiprocessing.current_process().pid)\n",
    "p1=Process(target=lambda:print('%d进程执行了'%(multiprocessing.current_process().pid)),name='进程1')\n",
    "print(p1)"
   ]
  },
  {
   "cell_type": "code",
   "execution_count": 15,
   "id": "4f559e16-c5a3-4f7f-85e4-1a779d3430de",
   "metadata": {},
   "outputs": [
    {
     "name": "stdout",
     "output_type": "stream",
     "text": [
      "进程运行中\n"
     ]
    }
   ],
   "source": [
    "'''\n",
    "4.创建进程的第二种方法：\n",
    "    继承Process类，重写Process中的run方法,在run方法中实现进程处理任务\n",
    "5.进程中的常用方法如下：\n",
    "    - is_alive()：判断进程是否仍然在执行\n",
    "    - join（[timeout]）： 等待进程 p 终止。Timeout 是可选的超时期限，进程可以被链接无数次，但如果连接自身则会出错\n",
    "    - run()： 进程启动时运行的方法。默认情况下，会调用传递给 Process 构造函数的 target。定义进程的另一种方法是继承 Process 类并重新实现 run()函数\n",
    "    - start()： 启动进程，并调用该子进程中的 run()函数\n",
    "    - terminate()： 强制终止进程。如果调用此函数，进程 p 将被立即终止，同时不会进行\n",
    "                任何清理动作。如果进程 p 创建了它自己的子进程，这些进程将变为僵\n",
    "                尸进程。使用此方法时需要特别小心。如果 p 保存了一个锁或参与了进\n",
    "                程间通信，那么终止它可能会导致死锁或 I/O 损坏\n",
    "'''\n",
    "import time\n",
    "class MyProcess(multiprocessing.Process):\n",
    "    def __init__(self,name):\n",
    "        super().__init__()\n",
    "        self.name=name\n",
    "    def run(self):\n",
    "        print('%s进程开始执行'%self.name)\n",
    "        _time=10\n",
    "        while(_time>0):\n",
    "            print('---牛马工作中---')\n",
    "            print('_time:%d'%_time)\n",
    "            time.sleep(2<<(10-_time))\n",
    "            _time -=1\n",
    "        print('%s进程结束'%self.name)\n",
    "myP1=MyProcess('自定义进程1')\n",
    "myP1.start()\n",
    "print('进程运行中') if myP1.is_alive() else print('进程终止了')"
   ]
  },
  {
   "cell_type": "code",
   "execution_count": 13,
   "id": "4552c2f6-a9ac-419d-a6ad-9292016dde71",
   "metadata": {},
   "outputs": [
    {
     "name": "stdout",
     "output_type": "stream",
     "text": [
      "False\n"
     ]
    }
   ],
   "source": []
  },
  {
   "cell_type": "code",
   "execution_count": null,
   "id": "4c599877-fd79-491e-aec2-08f50bd00d9d",
   "metadata": {},
   "outputs": [],
   "source": [
    "'''\n",
    "6.进程池，用于限制进程的数量\n",
    "    工作原理:指定数量的进程，当有新的请求提交到进程池后，判断池中的进程数是否已达到最大值，若未达到则创建一个新的\n",
    "            进程执行该请求；若池中的进程数已经达到最大值，则该请求会等待直到池中的进程有结束\n",
    "7.进程池的创建：使用multiprocessing模块的Pool类\n",
    "    Pool（[numprocess [, initializer [, initargs]]]）\n",
    "    numprocess:进程数，若未手动指定进程数，则使用os模块的cpu_count()的值（系统cpu的数量）\n",
    "    initializer：每个进程启动时执行的函数，initargs为该函数的参数\n",
    "8.实例方法如下：\n",
    "- apply（func [,args [,kwargs]]）: 在一个池工作进程中执行函数（*args，**kwargs），然后返回结果，会阻塞当前进程\n",
    "- apply_async（func [, args [,kwargs[,callback ] ] ]）\n",
    "    在一个池工作进程中异步地执行函数（*args，**kwargs），然后返\n",
    "    回结果。此方法的结果是 AsyncResult 类的实例，稍后可用于获得\n",
    "    最终结果。Callback 是可调用对象，接受输入参数。当 func 的结\n",
    "    果变为可用时，将立即传递给 callback。Callback 禁止执行任何阻\n",
    "    塞操作，否则将阻塞接收其他异步操作中的结果\n",
    "\n",
    "\n",
    "- close() 关闭进程池，防止进行进一步操作。如果还有挂起的操作，它们将在工作进程终止之前完成\n",
    "- join() 等待所有工作进程退出。此方法只能在 close（）或者 terminate （）方法之后调用\n",
    "imap( func ， iterable\n",
    "[ ,chunksize] )\n",
    "map（）函数的版本之一，返回迭代器而非结果列表\n",
    "imap_unordered( func，iterable [，\n",
    "chunksize] )\n",
    "同 imap（）函数一样，只是结果的顺序根据从工作进程接收到的时\n",
    "间任意确定\n",
    "map( func ， iterable [ ，\n",
    "chunksize] )\n",
    "将可调用对象 func 应用给 iterable 中的所有项，然后以列表的形\n",
    "式返回结果。通过将 iterable 划分为多块并将工作分派给工作进\n",
    "程，可以并行地执行这项操作。chunksize 指定每块中的项数。如\n",
    "果数量较大，可以增大 chunksize 的值来提升性能\n",
    "map_async( func ， iterable [ ，\n",
    "chunksize [，callback]] )\n",
    "同 map（）函数，但结果的返回是异步的。返回值是 AsyncResult\n",
    "类的实例，稍后可用与获取结果。Callback 是指接受一个参数的可\n",
    "调对象。如果提供 callable，当结果变为可用时，将使用结果调用\n",
    "callable\n",
    "terminate() 立即终止所有工作进程，同时不执行任何清理或结束任何挂起工作。\n",
    "如果 p 被垃圾回收，将自动调用此函数\n",
    "- get( [ timeout] ) 返回结果，如果有必要则等待结果到达。Timeout 是可选的超时。\n",
    "如 果 结 果 在 指 定 时 间 内 没 有 到 达 ， 将 引 发\n",
    "multiprocessing.TimeoutError 异常。如果远程操作中引发了异\n",
    "常，它将在调用此方法时再次被引发\n",
    "- ready() 如果调用完成，则返回 True\n",
    "- sucessful() 如果调用完成且没有引发异常，返回 True。如果在结果就绪之前调\n",
    "用此方法，将引发 AssertionError 异常\n",
    "- wait( [timeout] ) 等待结果变为可用。Timeout 是可选的超时\n",
    "    \n",
    "'''\n",
    "\n"
   ]
  },
  {
   "cell_type": "code",
   "execution_count": 2,
   "id": "676afffc-1f59-4734-9cc9-62d871d8e681",
   "metadata": {},
   "outputs": [
    {
     "name": "stdout",
     "output_type": "stream",
     "text": [
      "['Docker技术入门与实战+第2版.pdf', 'Git Community Book 中文版.pdf', 'git使用指南.pdf', 'kubernetes.pdf', 'Linux命令行与shell脚本编程大全  第3版  ,布鲁姆 ,P606.pdf', 'Maven实战.pdf', 'Nginx高性能Web服务器实战教程.pdf', '【高清电子版】Nginx开发从入门到精通.pdf', '新建文件夹']\n"
     ]
    }
   ],
   "source": [
    "import os\n",
    "print(os.listdir('E:\\\\java\\\\book'))"
   ]
  },
  {
   "cell_type": "code",
   "execution_count": 8,
   "id": "9a03c45f-9783-4db8-ac46-8a53dc42b979",
   "metadata": {},
   "outputs": [],
   "source": [
    "'''\n",
    "9.多个进程间数据不共享，可以使用multiprocessing模块的进程安全的Queue进行进程间的数据传递\n",
    "'''\n",
    "import time\n",
    "import multiprocessing as mp\n",
    "#生产者\n",
    "def produce(q):\n",
    "    _time=100\n",
    "    while(_time>0):\n",
    "        q.put('生产了'+str(_time))\n",
    "        time.sleep(2<<(100-_time))\n",
    "        _time-=1\n",
    "\n",
    "def consume(q):\n",
    "    while(True):\n",
    "        print('消费数据：'+q.get())\n",
    "\n",
    "#创建队列\n",
    "q=mp.Queue(10)\n",
    "#创建进程\n",
    "pp=mp.Process(target=produce,args=(q,))\n",
    "cc=mp.Process(target=consume,args=(q,))\n",
    "cc.start()\n",
    "pp.start()\n",
    " "
   ]
  },
  {
   "cell_type": "markdown",
   "id": "1eb3b555-d40c-443e-bee4-b684b3bcdb1d",
   "metadata": {},
   "source": [
    "#多线程"
   ]
  },
  {
   "cell_type": "code",
   "execution_count": 14,
   "id": "f899ec15-a071-427a-9945-764f171a87fc",
   "metadata": {},
   "outputs": [
    {
     "name": "stdout",
     "output_type": "stream",
     "text": [
      "线程名：t1 学生姓名:myf1\n",
      "线程名：t2 学生姓名:myf1\n"
     ]
    }
   ],
   "source": [
    "'''\n",
    "1.python中提供了_thread和threading两个模块处理线程\n",
    "2._thread模块创建线程的方法:\n",
    "    _thread.start_new_thread ( function, args[, kwargs] )\n",
    "        - function:任务处理方法\n",
    "        - args：任务处理方法的参数\n",
    "  threading创建线程的方法：\n",
    "      - Thread(group=None, target=None, name=None, args=(), kwargs={})\n",
    "      - 继承Thread重写run方法\n",
    "      \n",
    "3.进程类多个线程共享全局变量，存在线程安全问题，使用Threading模块的Lock进行互斥访问\n",
    "    - m=Lock() 获取锁\n",
    "    - m.release() 释放锁\n",
    "4.线程同步：\n",
    "    - 可以使用queue模块的Queue\n",
    "    - 使用全局ThreadLocal对象\n",
    "'''\n",
    "import threading as td\n",
    "#创建ThreadLocal对象\n",
    "ll=td.local()\n",
    "\n",
    "def process_student():\n",
    "# 获取当前线程关联的 name:\n",
    "    student_name = ll.name\n",
    "    print('线程名：%s 学生姓名:%s' % (threading.current_thread().name,student_name))\n",
    "def process_thread(name):\n",
    "    # 绑定 ThreadLocal 的 name:\n",
    "    ll.name = name\n",
    "    process_student()\n",
    "t1=td.Thread(target=process_thread,args=('myf1',),name='t1')\n",
    "t2=td.Thread(target=process_thread,args=('myf1',),name='t2')\n",
    "t1.start()\n",
    "t2.start()\n",
    "t1.join()\n",
    "t2.join()\n"
   ]
  },
  {
   "cell_type": "code",
   "execution_count": null,
   "id": "4bce0b1b-9a52-4b77-ad82-573aa8c17830",
   "metadata": {},
   "outputs": [],
   "source": []
  }
 ],
 "metadata": {
  "kernelspec": {
   "display_name": "Python 3 (ipykernel)",
   "language": "python",
   "name": "python3"
  },
  "language_info": {
   "codemirror_mode": {
    "name": "ipython",
    "version": 3
   },
   "file_extension": ".py",
   "mimetype": "text/x-python",
   "name": "python",
   "nbconvert_exporter": "python",
   "pygments_lexer": "ipython3",
   "version": "3.11.11"
  }
 },
 "nbformat": 4,
 "nbformat_minor": 5
}
