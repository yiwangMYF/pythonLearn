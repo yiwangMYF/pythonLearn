{
 "cells": [
  {
   "cell_type": "markdown",
   "id": "9b4a378f-6acb-4ee8-9655-19cdfb9f58a7",
   "metadata": {},
   "source": [
    "## 类的定义\n",
    "class className(superClassName):\n",
    "    def __init__(self,p1,p2):\n",
    "        self.p1=p1\n",
    "        self.p2=p2\n",
    "    def m1(self):\n",
    "        print(self)\n",
    "- superClassName为要继承的类，默认继承的类是object\n",
    "- 创建对象的过程为实例化，需要类有构造方法__init__,若定义了构造方法则使用匹配的构造方法\n",
    "  若未定义构造方法，系统会提供默认的空参构造方法\n",
    "- 类中定义的构造方法和其他方法，第一个参数都必须是self（即类实例化对象），但是方法调用时不需要手动传入self\n",
    "  解释器会自己把实例对象传入\n",
    "- 类的属性在构造方法__init__()中进行定义\n",
    "- 类的实例化：c1=className(p1,p2)"
   ]
  },
  {
   "cell_type": "code",
   "execution_count": 3,
   "id": "6443a7a3-3177-47f4-b1b0-e665914f96eb",
   "metadata": {},
   "outputs": [
    {
     "name": "stdout",
     "output_type": "stream",
     "text": [
      "我的信息：\n",
      "name:myf,age:100\n"
     ]
    }
   ],
   "source": [
    "class Person:\n",
    "    def __init__(self,name,age):\n",
    "        self.name=name\n",
    "        self.age=age\n",
    "    def m1(self):\n",
    "        print('我的信息：\\nname:%s,age:%d'%(self.name,self.age))\n",
    "p1=Person('myf',100)\n",
    "p1.m1()"
   ]
  },
  {
   "cell_type": "code",
   "execution_count": null,
   "id": "6fe91e14-f202-4da8-8b35-e809a3d7c38e",
   "metadata": {},
   "outputs": [],
   "source": []
  }
 ],
 "metadata": {
  "kernelspec": {
   "display_name": "Python 3 (ipykernel)",
   "language": "python",
   "name": "python3"
  },
  "language_info": {
   "codemirror_mode": {
    "name": "ipython",
    "version": 3
   },
   "file_extension": ".py",
   "mimetype": "text/x-python",
   "name": "python",
   "nbconvert_exporter": "python",
   "pygments_lexer": "ipython3",
   "version": "3.11.9"
  }
 },
 "nbformat": 4,
 "nbformat_minor": 5
}
