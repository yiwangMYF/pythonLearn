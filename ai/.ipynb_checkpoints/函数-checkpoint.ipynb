{
 "cells": [
  {
   "cell_type": "markdown",
   "id": "4b46efae-512b-43a3-9c5b-eab486a30233",
   "metadata": {},
   "source": [
    "1. 函数的定义\n",
    "def 函数名([arg1,arg2...]):\n",
    "    代码\n",
    "   [return]"
   ]
  },
  {
   "cell_type": "code",
   "execution_count": 2,
   "id": "bee1e4cb-b74a-4a6d-9786-6199a6555faa",
   "metadata": {},
   "outputs": [
    {
     "name": "stdout",
     "output_type": "stream",
     "text": [
      "a new message:hhh\n"
     ]
    }
   ],
   "source": [
    "def log(msg):\n",
    "    print('a new message:%s'%msg)\n",
    "log(\"hhh\")"
   ]
  },
  {
   "cell_type": "code",
   "execution_count": 4,
   "id": "29e15474-dfff-4f41-ad28-cf753f52f40e",
   "metadata": {},
   "outputs": [
    {
     "name": "stdout",
     "output_type": "stream",
     "text": [
      "a new message:3\n"
     ]
    }
   ],
   "source": [
    "def add_(a,b):\n",
    "    return a+b;\n",
    "log(add_(1,2))"
   ]
  },
  {
   "cell_type": "code",
   "execution_count": 5,
   "id": "9c8d783a-4a20-4c09-8464-2516ebcef7d7",
   "metadata": {},
   "outputs": [
    {
     "name": "stdout",
     "output_type": "stream",
     "text": [
      "我是函数1\n"
     ]
    }
   ],
   "source": [
    "#给函数添加注释，其中函数的__doc__属性可以获取函数的文档注释（''' '''）\n",
    "def f1():\n",
    "    '''我是函数1'''\n",
    "print(f1.__doc__)"
   ]
  },
  {
   "cell_type": "code",
   "execution_count": 7,
   "id": "4bef1499-4b9e-4c97-b7a9-592407c09796",
   "metadata": {},
   "outputs": [
    {
     "name": "stdout",
     "output_type": "stream",
     "text": [
      "1001\n",
      "3333\n",
      "1001\n"
     ]
    }
   ],
   "source": [
    "'''\n",
    "局部变量：函数内部声明的变量，只能在函数内使用\n",
    "全局变量：函数和类定义之外申明的变量，可以被所有的函数使用，作用于整个程序\n",
    "局部变量和全局变量重名时，遵循“就近原则”，即有局部变量使用局部变量，无局部变量使用全局变量\n",
    "正常情况下无法直接在函数中修改全局变量，但是可以通过global关键字申明当前变量为全局变量，然后去修改\n",
    "'''\n",
    "var1=100\n",
    "def f2():\n",
    "    global var1\n",
    "    var1=1001\n",
    "    return var1\n",
    "def f3():\n",
    "    var1=3333\n",
    "    return var1\n",
    "print(f2())\n",
    "print(f3())\n",
    "print(var1)"
   ]
  },
  {
   "cell_type": "code",
   "execution_count": 9,
   "id": "e6c70f51-29da-4001-b8a1-ae88f730767d",
   "metadata": {},
   "outputs": [
    {
     "name": "stdout",
     "output_type": "stream",
     "text": [
      "a b c\n"
     ]
    }
   ],
   "source": [
    "#位置参数：函数调用时实参按照形参顺序传递值,顺序和数量必须匹配\n",
    "def ff1(a,b,c):\n",
    "    print(a,b,c)\n",
    "ff1('a','b','c')"
   ]
  },
  {
   "cell_type": "code",
   "execution_count": 11,
   "id": "140b35ba-59ea-4175-a080-bee646fc66fd",
   "metadata": {},
   "outputs": [
    {
     "name": "stdout",
     "output_type": "stream",
     "text": [
      "1\n",
      "3\n",
      "4\n",
      "-------------------\n",
      "1\n",
      "9\n",
      "4\n",
      "-------------------\n",
      "1\n",
      "9\n",
      "100\n"
     ]
    }
   ],
   "source": [
    "#默认参数，函数申明时可以给参数添加默认值\n",
    "#默认参数必须在非默认参数的后面，若函数调用时没有给默认参数传值，则函数调用时使用形参的默认值\n",
    "#多个默认参数时，按位置顺序接受实参传值\n",
    "def ff2(a,b=3,c=4):\n",
    "    print(a)\n",
    "    print(b)\n",
    "    print(c)\n",
    "ff2(1)\n",
    "print('-------------------')\n",
    "ff2(1,9)\n",
    "print('-------------------')\n",
    "ff2(1,9,100)"
   ]
  },
  {
   "cell_type": "code",
   "execution_count": 12,
   "id": "cfbef1f5-f4cc-4c9f-a37f-fe4fa2763f80",
   "metadata": {},
   "outputs": [
    {
     "name": "stdout",
     "output_type": "stream",
     "text": [
      "6\n",
      "5\n"
     ]
    }
   ],
   "source": [
    "#关键字参数：函数调用时按照参数名传递参数值，不用保证与形参顺序一致\n",
    "def ff3(a,b):\n",
    "    print(a)\n",
    "    print(b)\n",
    "ff3(b=5,a=6)"
   ]
  },
  {
   "cell_type": "code",
   "execution_count": 13,
   "id": "a055b328-0a34-4a22-a8b3-8f3dd87c14af",
   "metadata": {},
   "outputs": [
    {
     "name": "stdout",
     "output_type": "stream",
     "text": [
      "1 2\n",
      "(3, 4, 5)\n",
      "20\n",
      "{'d': 30}\n"
     ]
    }
   ],
   "source": [
    "#可变参数：函数申明时若在形参前加上\"*\",则函数调用时会把多个参数值收集到一个元组对象中（可变位置参数），若\n",
    "#形参前加上2个“*”则会把多个参数收集到一个字典对象中（可变关键字参数参数）\n",
    "#函数申明时，可变位置参数后面必须是关键字参数或关键子可变参数，而可变关键字参数必须是最后一个参数\n",
    "def func(a, b, *args, c=10, **kwargs):\n",
    "    print(a, b)\n",
    "    print(args)   # 位置参数 *args\n",
    "    print(c)      # 默认参数 c\n",
    "    print(kwargs)  # 关键字参数 **kwargs\n",
    "\n",
    "func(1, 2, 3, 4, 5, c=20, d=30)\n"
   ]
  },
  {
   "cell_type": "code",
   "execution_count": 16,
   "id": "88d27020-8b7f-4b92-b19e-50e353680147",
   "metadata": {},
   "outputs": [
    {
     "ename": "SyntaxError",
     "evalue": "arguments cannot follow var-keyword argument (3677450456.py, line 1)",
     "output_type": "error",
     "traceback": [
      "\u001b[1;36m  Cell \u001b[1;32mIn[16], line 1\u001b[1;36m\u001b[0m\n\u001b[1;33m    def func(a, b, *args,**kwargs,c=10):\u001b[0m\n\u001b[1;37m                                  ^\u001b[0m\n\u001b[1;31mSyntaxError\u001b[0m\u001b[1;31m:\u001b[0m arguments cannot follow var-keyword argument\n"
     ]
    }
   ],
   "source": [
    "def func(a, b, *args,**kwargs,c=10):\n",
    "    print(a, b)\n",
    "    print(args)   # 位置参数 *args\n",
    "    print(c)      # 默认参数 c\n",
    "    print(kwargs)  # 关键字参数 **kwargs\n",
    "\n",
    "func(1, 2, 3, 4, 5, c=20, d=30)"
   ]
  },
  {
   "cell_type": "code",
   "execution_count": 3,
   "id": "67c10c88-17e9-4d4f-a4c8-f000241aecb6",
   "metadata": {},
   "outputs": [
    {
     "name": "stdout",
     "output_type": "stream",
     "text": [
      "实参：2687601665920\n",
      "形参：2687601665920\n",
      "--------------------\n"
     ]
    }
   ],
   "source": [
    "#关于对象的引用,python中只有引用传递\n",
    "def mutable_arg(a):\n",
    "    print('形参：%d'%(id(a)))\n",
    "list01=['a','b']\n",
    "print('实参：%d'%(id(list01)))\n",
    "mutable_arg(list01)\n",
    "\n",
    "print('-'*20)"
   ]
  },
  {
   "cell_type": "code",
   "execution_count": 11,
   "id": "2a90a64d-5472-43c5-bea1-57feec234ba0",
   "metadata": {},
   "outputs": [
    {
     "name": "stdout",
     "output_type": "stream",
     "text": [
      "<class 'tuple'>\n",
      "实参：2687620761600\n",
      "形参：2687620761600\n",
      "形参2：2687622423296\n",
      "实参2：2687620765376\n"
     ]
    }
   ],
   "source": [
    "def immutable_arg(a):\n",
    "    print('形参：%d'%(id(a)))\n",
    "    a=(8,9)\n",
    "    print('形参2：%d'%(id(a)))\n",
    "tuple01=(1,2)\n",
    "print(type(tuple01))\n",
    "print('实参：%d'%(id(tuple01)))\n",
    "immutable_arg(tuple01)\n",
    "tuple01=(3,4)\n",
    "print('实参2：%d'%(id(tuple01)))"
   ]
  },
  {
   "cell_type": "code",
   "execution_count": 12,
   "id": "e6d9befa-323f-417f-97c8-219933ac9ff2",
   "metadata": {},
   "outputs": [
    {
     "name": "stdout",
     "output_type": "stream",
     "text": [
      "[1, 2, 3, 4, 5, 6, 7, 8, 9, 10, 11, 12, 13, 14, 15, 16, 17, 18, 19, 20, 21, 22, 23, 24, 25, 26, 27, 28, 29, 30, 31, 32, 33, 34, 35, 36, 37, 38, 39, 40, 41, 42, 43, 44, 45, 46, 47, 48, 49, 50, 51, 52, 53, 54, 55, 56, 57, 58, 59, 60, 61, 62, 63, 64, 65, 66, 67, 68, 69, 70, 71, 72, 73, 74, 75, 76, 77, 78, 79, 80, 81, 82, 83, 84, 85, 86, 87, 88, 89, 90, 91, 92, 93, 94, 95, 96, 97, 98, 99]\n"
     ]
    }
   ],
   "source": [
    "\n",
    "list12=[x for x in range(1,100)]\n",
    "print(list12)"
   ]
  },
  {
   "cell_type": "code",
   "execution_count": 17,
   "id": "94d2b915-fe46-41f2-a82d-842d77a2d17d",
   "metadata": {},
   "outputs": [
    {
     "name": "stdout",
     "output_type": "stream",
     "text": [
      "4950\n"
     ]
    },
    {
     "data": {
      "text/plain": [
       "4950"
      ]
     },
     "execution_count": 17,
     "metadata": {},
     "output_type": "execute_result"
    }
   ],
   "source": [
    "#递归求和\n",
    "def recursion(list_,sum_):\n",
    "    if len(list_)==2:\n",
    "        return list_[0]+list_[1]+sum_;\n",
    "    else:\n",
    "        sum_+=list_[-1]\n",
    "        return recursion(list_[:-1],sum_)\n",
    "print(recursion(list12,0))\n",
    "\n",
    "#对数器\n",
    "sum_=sum(list12)\n",
    "sum_"
   ]
  },
  {
   "cell_type": "markdown",
   "id": "c9a5d8c3-3156-4528-8d93-4c94727acf74",
   "metadata": {},
   "source": [
    "## 嵌套函数\n",
    "在函数中定义内部函数，内部函数可以访问函数中的局部变量（闭包），但是外部函数不能访问内部函数的局部变量\n",
    "外部函数可以调用内部函数，但是内部函数不能调用外部函数"
   ]
  },
  {
   "cell_type": "code",
   "execution_count": 20,
   "id": "2c829bc1-787f-4573-b7eb-b37b00e5c83b",
   "metadata": {},
   "outputs": [
    {
     "ename": "UnboundLocalError",
     "evalue": "cannot access local variable 'sum_' where it is not associated with a value",
     "output_type": "error",
     "traceback": [
      "\u001b[1;31m---------------------------------------------------------------------------\u001b[0m",
      "\u001b[1;31mUnboundLocalError\u001b[0m                         Traceback (most recent call last)",
      "Cell \u001b[1;32mIn[20], line 11\u001b[0m\n\u001b[0;32m      9\u001b[0m \u001b[38;5;28mtype\u001b[39m(fn)\n\u001b[0;32m     10\u001b[0m listaa\u001b[38;5;241m=\u001b[39m[x \u001b[38;5;28;01mfor\u001b[39;00m x \u001b[38;5;129;01min\u001b[39;00m \u001b[38;5;28mrange\u001b[39m(\u001b[38;5;241m1\u001b[39m,\u001b[38;5;241m10\u001b[39m)]\n\u001b[1;32m---> 11\u001b[0m sum_\u001b[38;5;241m=\u001b[39m\u001b[43mfn\u001b[49m\u001b[43m(\u001b[49m\u001b[43mlistaa\u001b[49m\u001b[43m)\u001b[49m\n\u001b[0;32m     12\u001b[0m sum_\n",
      "Cell \u001b[1;32mIn[20], line 5\u001b[0m, in \u001b[0;36mouter.<locals>.add_\u001b[1;34m(list)\u001b[0m\n\u001b[0;32m      3\u001b[0m \u001b[38;5;28;01mdef\u001b[39;00m\u001b[38;5;250m \u001b[39m\u001b[38;5;21madd_\u001b[39m(\u001b[38;5;28mlist\u001b[39m):\n\u001b[0;32m      4\u001b[0m     \u001b[38;5;28;01mfor\u001b[39;00m x \u001b[38;5;129;01min\u001b[39;00m \u001b[38;5;28mlist\u001b[39m:\n\u001b[1;32m----> 5\u001b[0m         \u001b[43msum_\u001b[49m\u001b[38;5;241m+\u001b[39m\u001b[38;5;241m=\u001b[39mx\n\u001b[0;32m      6\u001b[0m     \u001b[38;5;28;01mreturn\u001b[39;00m sum_\n",
      "\u001b[1;31mUnboundLocalError\u001b[0m: cannot access local variable 'sum_' where it is not associated with a value"
     ]
    }
   ],
   "source": [
    "def outer():\n",
    "    sum_=0\n",
    "    def add_(list):\n",
    "        for x in list:\n",
    "            sum_+=x\n",
    "        return sum_\n",
    "    return add_\n",
    "fn=outer()\n",
    "type(fn)\n",
    "listaa=[x for x in range(1,10)]\n",
    "sum_=fn(listaa)\n",
    "sum_"
   ]
  },
  {
   "cell_type": "markdown",
   "id": "82e7e9ce-c74a-4d25-985f-930ad501e4c2",
   "metadata": {},
   "source": [
    "内部函数可以引用外部函数的变量，但是无法直接修改外部函数中的变量，若要去改变外部函数的变量则需要使用nonlocal关键字进行声明"
   ]
  },
  {
   "cell_type": "code",
   "execution_count": 21,
   "id": "471ad228-7f77-4320-866f-22c494fd9905",
   "metadata": {},
   "outputs": [
    {
     "data": {
      "text/plain": [
       "45"
      ]
     },
     "execution_count": 21,
     "metadata": {},
     "output_type": "execute_result"
    }
   ],
   "source": [
    "def outer1():\n",
    "    sum_=0\n",
    "    def add_(list):\n",
    "        nonlocal sum_\n",
    "        for x in list:\n",
    "            sum_+=x\n",
    "        return sum_\n",
    "    return add_\n",
    "fn=outer1()\n",
    "type(fn)\n",
    "listaa=[x for x in range(1,10)]\n",
    "sum_=fn(listaa)\n",
    "sum_"
   ]
  },
  {
   "cell_type": "code",
   "execution_count": 26,
   "id": "9740d436-cad6-498d-a65d-035861c5a0c7",
   "metadata": {},
   "outputs": [
    {
     "name": "stdout",
     "output_type": "stream",
     "text": [
      "2687623532928\n",
      "2687623532928\n",
      "['F', 'f', 'C.']\n"
     ]
    }
   ],
   "source": [
    "ls = [\"F\", 'f']\n",
    "\n",
    "def fun(a):\n",
    "    ls=[]\n",
    "    print(id())\n",
    "    ls.append(a)\n",
    "    return\n",
    "\n",
    "fun('C.')\n",
    "print(ls)"
   ]
  },
  {
   "cell_type": "code",
   "execution_count": 29,
   "id": "47baee35-885d-4b6b-8744-5bfb39ba22eb",
   "metadata": {},
   "outputs": [
    {
     "name": "stdin",
     "output_type": "stream",
     "text": [
      " 1\n"
     ]
    },
    {
     "data": {
      "text/plain": [
       "1"
      ]
     },
     "execution_count": 29,
     "metadata": {},
     "output_type": "execute_result"
    }
   ],
   "source": [
    "eval(input())"
   ]
  },
  {
   "cell_type": "code",
   "execution_count": 31,
   "id": "8b75d51d-6d45-436a-a75c-901124d374e6",
   "metadata": {},
   "outputs": [
    {
     "name": "stdout",
     "output_type": "stream",
     "text": [
      "321\n"
     ]
    }
   ],
   "source": [
    "#输入一个整数，反向输出该整数如123->321\n",
    "def reverse_num(n):\n",
    "    str_=str(n)\n",
    "    \n",
    "    return int(str_[::-1])\n",
    "print(reverse_num(123))"
   ]
  },
  {
   "cell_type": "code",
   "execution_count": null,
   "id": "cff6d57e-11ca-4d23-8acf-01dedf7f4841",
   "metadata": {},
   "outputs": [],
   "source": []
  }
 ],
 "metadata": {
  "kernelspec": {
   "display_name": "Python 3 (ipykernel)",
   "language": "python",
   "name": "python3"
  },
  "language_info": {
   "codemirror_mode": {
    "name": "ipython",
    "version": 3
   },
   "file_extension": ".py",
   "mimetype": "text/x-python",
   "name": "python",
   "nbconvert_exporter": "python",
   "pygments_lexer": "ipython3",
   "version": "3.11.9"
  }
 },
 "nbformat": 4,
 "nbformat_minor": 5
}
