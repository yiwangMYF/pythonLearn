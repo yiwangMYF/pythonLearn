{
 "cells": [
  {
   "cell_type": "code",
   "execution_count": 12,
   "id": "998268ae-69b0-4b4a-802f-fec2187793d1",
   "metadata": {},
   "outputs": [
    {
     "name": "stdout",
     "output_type": "stream",
     "text": [
      "18740\n"
     ]
    },
    {
     "data": {
      "text/plain": [
       "<Process name='进程1' parent=18740 initial>"
      ]
     },
     "execution_count": 12,
     "metadata": {},
     "output_type": "execute_result"
    }
   ],
   "source": [
    "#操作进程python提供了multiprocessing\n",
    "'''\n",
    "1.创建进程使用Process类：Process(group=None, target=None, name=None, args=(), kwargs={},\n",
    "                 *, daemon=None)\n",
    "    - group:分组\n",
    "    - target:调用对象，即执行进程处理任务的函数\n",
    "    - name:指定进程名称\n",
    "    - args:调用对象的位置参数\n",
    "    - kwargs:调用对象的关键字参数\n",
    "    - daemon：是否是守护进程，守护进程会在其主进程结束后自动终止，默认为False\n",
    "2.multiprocessing.current_process()获取当前进程\n",
    "3.Process对象.pid()获取当前进程id\n",
    "'''\n",
    "import multiprocessing\n",
    "print(multiprocessing.current_process().pid)\n",
    "p1=Process(target=lambda:print('%d进程执行了'%(multiprocessing.current_process().pid)),name='进程1')\n",
    "print(p1)"
   ]
  },
  {
   "cell_type": "code",
   "execution_count": 14,
   "id": "4f559e16-c5a3-4f7f-85e4-1a779d3430de",
   "metadata": {},
   "outputs": [],
   "source": [
    "'''\n",
    "4.创建进程的第二种方法：\n",
    "    继承Process类，重写Process中的run方法,在run方法中实现进程处理任务\n",
    "5.进程中的常用方法如下：\n",
    "    - is_alive()：判断进程是否仍然在执行\n",
    "    - join（[timeout]）： 等待进程 p 终止。Timeout 是可选的超时期限，进程可以被链接无数次，但如果连接自身则会出错\n",
    "    - run()： 进程启动时运行的方法。默认情况下，会调用传递给 Process 构造函数的 target。定义进程的另一种方法是继承 Process 类并重新实现 run()函数\n",
    "    - start()： 启动进程，并调用该子进程中的 run()函数\n",
    "    - terminate()： 强制终止进程。如果调用此函数，进程 p 将被立即终止，同时不会进行\n",
    "                任何清理动作。如果进程 p 创建了它自己的子进程，这些进程将变为僵\n",
    "                尸进程。使用此方法时需要特别小心。如果 p 保存了一个锁或参与了进\n",
    "                程间通信，那么终止它可能会导致死锁或 I/O 损坏\n",
    "'''\n",
    "import time\n",
    "class MyProcess(multiprocessing.Process):\n",
    "    def __init__(self,name):\n",
    "        super().__init__()\n",
    "        self.name=name\n",
    "    def run(self):\n",
    "        print('%s进程开始执行'%self.name)\n",
    "        _time=10\n",
    "        while(_time>0):\n",
    "            print('---牛马工作中---')\n",
    "            print('_time:%d'%_time)\n",
    "            time.sleep(2<<(10-_time))\n",
    "            _time -=1\n",
    "        print('%s进程结束'%self.name)\n",
    "myP1=MyProcess('自定义进程1')\n",
    "myP1.start()\n",
    "if not myP1.is_alive:\n",
    "    print('校验一下进程状态')"
   ]
  },
  {
   "cell_type": "code",
   "execution_count": 13,
   "id": "4552c2f6-a9ac-419d-a6ad-9292016dde71",
   "metadata": {},
   "outputs": [
    {
     "name": "stdout",
     "output_type": "stream",
     "text": [
      "False\n"
     ]
    }
   ],
   "source": []
  },
  {
   "cell_type": "code",
   "execution_count": null,
   "id": "4c599877-fd79-491e-aec2-08f50bd00d9d",
   "metadata": {},
   "outputs": [],
   "source": []
  }
 ],
 "metadata": {
  "kernelspec": {
   "display_name": "Python 3 (ipykernel)",
   "language": "python",
   "name": "python3"
  },
  "language_info": {
   "codemirror_mode": {
    "name": "ipython",
    "version": 3
   },
   "file_extension": ".py",
   "mimetype": "text/x-python",
   "name": "python",
   "nbconvert_exporter": "python",
   "pygments_lexer": "ipython3",
   "version": "3.11.9"
  }
 },
 "nbformat": 4,
 "nbformat_minor": 5
}
