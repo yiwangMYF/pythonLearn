{
 "cells": [
  {
   "cell_type": "code",
   "execution_count": 2,
   "id": "40e77df8-df6b-479a-b3ff-7531b301a04a",
   "metadata": {},
   "outputs": [
    {
     "name": "stdout",
     "output_type": "stream",
     "text": [
      "1\n"
     ]
    }
   ],
   "source": [
    "int1=1\n",
    "long1=int(int1)\n",
    "print(long1) "
   ]
  },
  {
   "cell_type": "code",
   "execution_count": 3,
   "id": "5a0ea0b9-ceef-44cc-810e-c7f5f6862ccd",
   "metadata": {},
   "outputs": [
    {
     "data": {
      "text/plain": [
       "15"
      ]
     },
     "execution_count": 3,
     "metadata": {},
     "output_type": "execute_result"
    }
   ],
   "source": [
    "eval(\"5+10\")"
   ]
  },
  {
   "cell_type": "code",
   "execution_count": 5,
   "id": "b896f2da-a3a1-4b8c-947b-f205d6d9951d",
   "metadata": {},
   "outputs": [
    {
     "data": {
      "text/plain": [
       "[1, 2]"
      ]
     },
     "execution_count": 5,
     "metadata": {},
     "output_type": "execute_result"
    }
   ],
   "source": [
    "list1=[1,2]\n",
    "list1"
   ]
  },
  {
   "cell_type": "markdown",
   "id": "b1aff44b-8f8d-486c-9253-142d1959b4f6",
   "metadata": {},
   "source": [
    "推导式：x for x in range(1,10) if x%2==0\n",
    "遍历range(1,10),x为每个值，若x%2==0为true则返回x"
   ]
  },
  {
   "cell_type": "code",
   "execution_count": 12,
   "id": "35df82bf-4be8-48ca-81eb-9a7e5ed04e36",
   "metadata": {},
   "outputs": [
    {
     "data": {
      "text/plain": [
       "[2, 4, 6, 8]"
      ]
     },
     "execution_count": 12,
     "metadata": {},
     "output_type": "execute_result"
    }
   ],
   "source": [
    "list2=list(x for x in range(1,10) if x%2==0)\n",
    "list2"
   ]
  },
  {
   "cell_type": "markdown",
   "id": "94ec7846-215e-4625-b6a4-40e6315f07a2",
   "metadata": {},
   "source": [
    "id(x):返回x对象的唯一标识（内存地址）"
   ]
  },
  {
   "cell_type": "code",
   "execution_count": 19,
   "id": "9b8b2d47-bc5a-4c73-b5e2-bac52cdbc0d9",
   "metadata": {},
   "outputs": [
    {
     "name": "stdout",
     "output_type": "stream",
     "text": [
      "[1, 2, 3, 4]\n",
      "2572189143168\n",
      "2572189055168\n",
      "2572188874496\n",
      "None\n",
      "[1, 2, 3, 4]\n",
      "140713078270736\n"
     ]
    }
   ],
   "source": [
    "list1=[1,2]\n",
    "list2=[3,4]\n",
    "list3=list1+list2;\n",
    "print(list3)\n",
    "print(id(list1))\n",
    "print(id(list2))\n",
    "print(id(list3))\n",
    "\n",
    "list4=list1.extend(list2)\n",
    "print(list4)\n",
    "print(list1)\n",
    "print(id(list4))"
   ]
  },
  {
   "cell_type": "code",
   "execution_count": 20,
   "id": "a980f61a-67bc-40aa-969d-3629f3167543",
   "metadata": {},
   "outputs": [
    {
     "ename": "ValueError",
     "evalue": "list.remove(x): x not in list",
     "output_type": "error",
     "traceback": [
      "\u001b[1;31m---------------------------------------------------------------------------\u001b[0m",
      "\u001b[1;31mValueError\u001b[0m                                Traceback (most recent call last)",
      "Cell \u001b[1;32mIn[20], line 1\u001b[0m\n\u001b[1;32m----> 1\u001b[0m list1\u001b[38;5;241m.\u001b[39mremove(\u001b[38;5;241m100\u001b[39m)\n",
      "\u001b[1;31mValueError\u001b[0m: list.remove(x): x not in list"
     ]
    }
   ],
   "source": [
    "list1.remove(100)"
   ]
  },
  {
   "cell_type": "code",
   "execution_count": 21,
   "id": "ed78cc9e-be32-4262-a339-cc6e2b1b754d",
   "metadata": {},
   "outputs": [
    {
     "data": {
      "text/plain": [
       "([1, 2, 3, 4], [3, 4])"
      ]
     },
     "execution_count": 21,
     "metadata": {},
     "output_type": "execute_result"
    }
   ],
   "source": [
    "list1,list2"
   ]
  },
  {
   "cell_type": "code",
   "execution_count": 25,
   "id": "22fa56a3-456a-4cdb-97f1-e99264034c46",
   "metadata": {},
   "outputs": [
    {
     "data": {
      "text/plain": [
       "<zip at 0x256e19b9280>"
      ]
     },
     "execution_count": 25,
     "metadata": {},
     "output_type": "execute_result"
    }
   ],
   "source": [
    "list3=zip(list1,list2)\n",
    "list3\n"
   ]
  },
  {
   "cell_type": "code",
   "execution_count": 27,
   "id": "4627cd38-1ae0-42b6-9216-a766ff8cf2c2",
   "metadata": {},
   "outputs": [
    {
     "data": {
      "text/plain": [
       "[(1, 'a'), (2, 'b')]"
      ]
     },
     "execution_count": 27,
     "metadata": {},
     "output_type": "execute_result"
    }
   ],
   "source": [
    "list11=[1,2]\n",
    "list22=['a','b']\n",
    "list33=list(zip(list11,list22))\n",
    "list33"
   ]
  },
  {
   "cell_type": "code",
   "execution_count": 29,
   "id": "944db2a9-54d4-4438-b6be-5b3ae8d75ada",
   "metadata": {},
   "outputs": [
    {
     "data": {
      "text/plain": [
       "((1, 'a'), (2, 'b'))"
      ]
     },
     "execution_count": 29,
     "metadata": {},
     "output_type": "execute_result"
    }
   ],
   "source": [
    "tuple44=tuple(zip(list11,list22))\n",
    "tuple44"
   ]
  },
  {
   "cell_type": "code",
   "execution_count": 31,
   "id": "dbfd824c-7a31-44f5-919c-dc4a92098904",
   "metadata": {},
   "outputs": [
    {
     "data": {
      "text/plain": [
       "{1: 'a', 2: 'b'}"
      ]
     },
     "execution_count": 31,
     "metadata": {},
     "output_type": "execute_result"
    }
   ],
   "source": [
    "dict55=dict(zip(list11,list22))\n",
    "dict55"
   ]
  },
  {
   "cell_type": "code",
   "execution_count": 33,
   "id": "9384aa15-dfe4-4666-ad8b-341a0b236214",
   "metadata": {},
   "outputs": [
    {
     "data": {
      "text/plain": [
       "{}"
      ]
     },
     "execution_count": 33,
     "metadata": {},
     "output_type": "execute_result"
    }
   ],
   "source": [
    "dict1=dict()\n",
    "dict1"
   ]
  },
  {
   "cell_type": "code",
   "execution_count": 39,
   "id": "734bf345-79e2-45f7-99db-20f1bcae3bed",
   "metadata": {},
   "outputs": [
    {
     "data": {
      "text/plain": [
       "0"
      ]
     },
     "execution_count": 39,
     "metadata": {},
     "output_type": "execute_result"
    }
   ],
   "source": [
    "import os\n",
    "os.system(\"ping www.baidu.com\")"
   ]
  },
  {
   "cell_type": "code",
   "execution_count": 40,
   "id": "de610f06-979b-4f7b-9644-befb485c53bf",
   "metadata": {},
   "outputs": [
    {
     "data": {
      "text/plain": [
       "0"
      ]
     },
     "execution_count": 40,
     "metadata": {},
     "output_type": "execute_result"
    }
   ],
   "source": [
    "os.system(\"ping www.baidu.com\")"
   ]
  },
  {
   "cell_type": "code",
   "execution_count": 41,
   "id": "fb736c36-2878-49e1-a7f0-1b9baaf189e2",
   "metadata": {},
   "outputs": [
    {
     "data": {
      "text/plain": [
       "'E:\\\\python\\\\space'"
      ]
     },
     "execution_count": 41,
     "metadata": {},
     "output_type": "execute_result"
    }
   ],
   "source": [
    "#获取当前工作目录\n",
    "os.getcwd()\n"
   ]
  },
  {
   "cell_type": "code",
   "execution_count": 42,
   "id": "fbe87c28-c03c-4e8a-9938-c524ac18e526",
   "metadata": {},
   "outputs": [
    {
     "name": "stdout",
     "output_type": "stream",
     "text": [
      ".ipynb_checkpoints\n",
      "AI\n",
      "helloworld.py\n",
      "Untitled.ipynb\n"
     ]
    }
   ],
   "source": [
    "for file_name in os.listdir(os.getcwd()):\n",
    "    print(file_name)"
   ]
  },
  {
   "cell_type": "code",
   "execution_count": 47,
   "id": "84628774-c86d-40c9-b37b-0630e49c8f10",
   "metadata": {},
   "outputs": [
    {
     "name": "stdout",
     "output_type": "stream",
     "text": [
      ".ipynb_checkpoints\n",
      "AI\n",
      "helloworld.py\n",
      "test\n",
      "Untitled.ipynb\n"
     ]
    },
    {
     "data": {
      "text/plain": [
       "[None, None, None, None, None]"
      ]
     },
     "execution_count": 47,
     "metadata": {},
     "output_type": "execute_result"
    }
   ],
   "source": [
    "#判断文件夹是否存在，不存在则创建\n",
    "if not os.path.exists('test'):\n",
    "    os.mkdir('test')\n",
    "#遍历当前文件夹下的文件和目录\n",
    "[print(x) for x in os.listdir(os.getcwd())]"
   ]
  },
  {
   "cell_type": "code",
   "execution_count": 57,
   "id": "d2ddf2bb-41b6-4131-b016-a0950750b484",
   "metadata": {},
   "outputs": [],
   "source": [
    "#打开文件，需要手动释放资源\n",
    "#a:追加模式;r-只读模式;w-可写模式\n",
    "f=open('./hhhh.txt','a')\n",
    "f.write('\\n good')\n",
    "f.close()"
   ]
  },
  {
   "cell_type": "code",
   "execution_count": 58,
   "id": "56fd7f61-53c6-46e5-8b43-8697555a4c49",
   "metadata": {},
   "outputs": [
    {
     "name": "stdout",
     "output_type": "stream",
     "text": [
      "nicenice1nice1\n",
      " good\n"
     ]
    }
   ],
   "source": [
    "#with open会自动释放资源\n",
    "with open('./hhhh.txt','r') as f:\n",
    "    print(f.read())"
   ]
  },
  {
   "cell_type": "code",
   "execution_count": 61,
   "id": "cf349c80-a134-4756-b0cb-6d1ba89e7521",
   "metadata": {},
   "outputs": [
    {
     "name": "stdout",
     "output_type": "stream",
     "text": [
      "nicenice1nice1\n",
      "\n",
      " good\n"
     ]
    }
   ],
   "source": [
    "#文件按行读取,单行读取，适用于大文件\n",
    "#:= 海象运算符 允许在表达式中赋值并返回赋值结果\n",
    "with open('./hhhh.txt') as f:\n",
    "    while (line := f.readline()):\n",
    "        print(line)"
   ]
  },
  {
   "cell_type": "code",
   "execution_count": 62,
   "id": "a0367367-750e-4e2b-a043-3b70594d3353",
   "metadata": {},
   "outputs": [
    {
     "name": "stdout",
     "output_type": "stream",
     "text": [
      "nicenice1nice1\n",
      "\n",
      " good\n"
     ]
    }
   ],
   "source": [
    "#多行读取,一次性读取所有\n",
    "with open('./hhhh.txt') as f:\n",
    "    for line in f.readlines():\n",
    "        print(line)"
   ]
  },
  {
   "cell_type": "code",
   "execution_count": 3,
   "id": "6786aa33-6d78-47fd-9f2d-7a636e1b96d0",
   "metadata": {},
   "outputs": [
    {
     "name": "stdout",
     "output_type": "stream",
     "text": [
      "<class 'ZeroDivisionError'>\n",
      "division by zero\n",
      "finally执行\n"
     ]
    }
   ],
   "source": [
    "#异常捕获及处理\n",
    "'''\n",
    "try:\n",
    "    代码块\n",
    "except(E1,E2) as e:\n",
    "    code\n",
    "except E3:\n",
    "    code\n",
    "else:\n",
    "    code\n",
    "finally:\n",
    "    code\n",
    "'''\n",
    "try:\n",
    "    var33=10/0\n",
    "except Exception as e:\n",
    "    print(type(e))\n",
    "    print(e)\n",
    "finally:\n",
    "    print('finally执行')"
   ]
  },
  {
   "cell_type": "code",
   "execution_count": 4,
   "id": "ab143e23-bbc9-498a-94e9-ec6bd107d65f",
   "metadata": {},
   "outputs": [
    {
     "name": "stdin",
     "output_type": "stream",
     "text": [
      " uu\n"
     ]
    },
    {
     "name": "stdout",
     "output_type": "stream",
     "text": [
      "uu\n",
      "<class 'Exception'>\n",
      "请输入数字\n",
      "finally执行\n"
     ]
    }
   ],
   "source": [
    "#手动抛出异常：raise Exception('xxx')\n",
    "try:\n",
    "    var34=input()\n",
    "    print(var34)\n",
    "    if not isinstance(var34,int):\n",
    "        raise Exception('请输入数字')\n",
    "except Exception as e:\n",
    "    print(type(e))\n",
    "    print(e)\n",
    "finally:\n",
    "    print('finally执行')"
   ]
  },
  {
   "cell_type": "code",
   "execution_count": null,
   "id": "32b706fe-c5e1-4aa6-a606-d7bb87cfa0e2",
   "metadata": {},
   "outputs": [],
   "source": []
  }
 ],
 "metadata": {
  "kernelspec": {
   "display_name": "Python 3 (ipykernel)",
   "language": "python",
   "name": "python3"
  },
  "language_info": {
   "codemirror_mode": {
    "name": "ipython",
    "version": 3
   },
   "file_extension": ".py",
   "mimetype": "text/x-python",
   "name": "python",
   "nbconvert_exporter": "python",
   "pygments_lexer": "ipython3",
   "version": "3.11.11"
  }
 },
 "nbformat": 4,
 "nbformat_minor": 5
}
