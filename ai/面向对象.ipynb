{
 "cells": [
  {
   "cell_type": "code",
   "execution_count": null,
   "id": "047a648f-a0fb-4f15-acab-17c0d85e771b",
   "metadata": {},
   "outputs": [],
   "source": [
    "'''\n",
    "类的定义:\n",
    "class className(superClassName):\n",
    "    def __init__(self,p1,p2):\n",
    "        self.p1=p1\n",
    "        self.p2=p2\n",
    "    def m1(self):\n",
    "        print(self)\n",
    "\n",
    "- superClassName为要继承的类，默认继承的类是object\n",
    "- python解释器先调用__new__(cls,...)创建对象并分配内存，然后调用__init__(self,...)对对象进行初始化\n",
    "- 创建对象的过程为实例化，需要类有构造方法__init__,若定义了构造方法则使用匹配的构造方法\n",
    "  若未定义构造方法，系统会提供默认的空参构造方法\n",
    "- 类中定义的构造方法和其他方法，第一个参数都必须是self（即类实例化对象），但是方法调用时不需要手动传入self\n",
    "  解释器会自己把实例对象传入\n",
    "- 类的属性在构造方法__init__()中进行定义\n",
    "- 类的实例化：c1=className(p1,p2)\n",
    "- 实例属性通过对象名.实例属性名获取值\n",
    "'''\n"
   ]
  },
  {
   "cell_type": "code",
   "execution_count": 2,
   "id": "6443a7a3-3177-47f4-b1b0-e665914f96eb",
   "metadata": {},
   "outputs": [
    {
     "name": "stdout",
     "output_type": "stream",
     "text": [
      "我的信息：\n",
      "name:myf,age:100\n"
     ]
    }
   ],
   "source": [
    "class Person:\n",
    "    def __init__(self,name,age):\n",
    "        self.name=name\n",
    "        self.age=age\n",
    "    def m1(self):\n",
    "        print('我的信息：\\nname:%s,age:%d'%(self.name,self.age))\n",
    "p1=Person('myf',100)\n",
    "p1.m1()"
   ]
  },
  {
   "cell_type": "code",
   "execution_count": 15,
   "id": "27f88cb6-5c21-4461-8b29-89b5bf71d15f",
   "metadata": {},
   "outputs": [
    {
     "name": "stdout",
     "output_type": "stream",
     "text": [
      "['__class__', '__delattr__', '__dict__', '__dir__', '__doc__', '__eq__', '__format__', '__ge__', '__getattribute__', '__getstate__', '__gt__', '__hash__', '__init__', '__init_subclass__', '__le__', '__lt__', '__module__', '__ne__', '__new__', '__reduce__', '__reduce_ex__', '__repr__', '__setattr__', '__sizeof__', '__str__', '__subclasshook__', '__weakref__', 'age', 'm1', 'name', 'total_evaluations']\n",
      "ta\n",
      "100\n",
      "0\n",
      "0\n"
     ]
    },
    {
     "ename": "TypeError",
     "evalue": "Person.__init__() missing 2 required positional arguments: 'name' and 'age'",
     "output_type": "error",
     "traceback": [
      "\u001B[1;31m---------------------------------------------------------------------------\u001B[0m",
      "\u001B[1;31mTypeError\u001B[0m                                 Traceback (most recent call last)",
      "Cell \u001B[1;32mIn[15], line 15\u001B[0m\n\u001B[0;32m     13\u001B[0m \u001B[38;5;28mprint\u001B[39m(Student\u001B[38;5;241m.\u001B[39mtotal_evaluations)\n\u001B[0;32m     14\u001B[0m \u001B[38;5;28mprint\u001B[39m(s1\u001B[38;5;241m.\u001B[39mtotal_evaluations)\n\u001B[1;32m---> 15\u001B[0m s2\u001B[38;5;241m=\u001B[39m\u001B[43mStudent\u001B[49m\u001B[43m(\u001B[49m\u001B[43m)\u001B[49m\n\u001B[0;32m     16\u001B[0m \u001B[38;5;28mprint\u001B[39m(\u001B[38;5;28mlist\u001B[39m(x \u001B[38;5;28;01mfor\u001B[39;00m x \u001B[38;5;129;01min\u001B[39;00m \u001B[38;5;28mdir\u001B[39m(s2)))\n\u001B[0;32m     17\u001B[0m \u001B[38;5;28mprint\u001B[39m(s2\u001B[38;5;241m.\u001B[39mname)\n",
      "\u001B[1;31mTypeError\u001B[0m: Person.__init__() missing 2 required positional arguments: 'name' and 'age'"
     ]
    }
   ],
   "source": [
    "##类的属性\n",
    "#类属性定义在类中，通过类名.类属性名或实例对象.类属性名进行访问\n",
    "class Student(Person):\n",
    "    total_evaluations=0\n",
    "\n",
    "    #内置方法，相当于Java中的toString方法，使用print打印时调用\n",
    "    def __str__(self):\n",
    "        return '{0}的年龄是{1}'.format(self.name,self.age)\n",
    "s1=Student('ta',100)\n",
    "print(list(x for x in dir(s1)))\n",
    "print(s1.name)\n",
    "print(s1.age)\n",
    "print(Student.total_evaluations)\n",
    "print(s1.total_evaluations)\n",
    "s2=Student()\n",
    "print(list(x for x in dir(s2)))\n",
    "print(s2.name)\n",
    "print(s2.age)"
   ]
  },
  {
   "cell_type": "code",
   "execution_count": 8,
   "id": "23ea73ba-c616-4459-b993-2d1b573269bd",
   "metadata": {},
   "outputs": [
    {
     "name": "stdout",
     "output_type": "stream",
     "text": [
      "教师------\n"
     ]
    }
   ],
   "source": [
    "#类的方法，通过在方法上添加@classmethod标注，且方法的第一个参数必须是cls(类对象)\n",
    "#类方法的调用：类名.类方法名(*args),cls参数不需要手动传入\n",
    "#可以访问类属性，但是不能访问实例属性\n",
    "class Teacher(Person):\n",
    "    @classmethod\n",
    "    def teacher_01(cls):\n",
    "        print('教师------')\n",
    "Teacher.teacher_01()"
   ]
  },
  {
   "cell_type": "code",
   "execution_count": 9,
   "id": "d88dad53-56a2-4462-83c6-f873ec4eaaa3",
   "metadata": {},
   "outputs": [
    {
     "name": "stdout",
     "output_type": "stream",
     "text": [
      "shut up!\n"
     ]
    }
   ],
   "source": [
    "#静态方法，和类对象、实例对象无关，只是定义在类中的普通方法\n",
    "#静态方法通过在方法上添加@staticmethod,方法第一个参数不需要cls或self对象，使用类名.静态方法名调用\n",
    "#静态方法不能访问类属性和实例属性\n",
    "class Dean(Person):\n",
    "    @staticmethod\n",
    "    def roar():\n",
    "        print('shut up!')\n",
    "Dean.roar()"
   ]
  },
  {
   "cell_type": "code",
   "execution_count": 14,
   "id": "69a23beb-d1cc-4ade-a5dc-9708422862a3",
   "metadata": {},
   "outputs": [
    {
     "name": "stdout",
     "output_type": "stream",
     "text": [
      "ta的年龄是100\n",
      "ta\n"
     ]
    }
   ],
   "source": [
    "'''\n",
    "内置方法：\n",
    "__init__(self,...) 初始化对象，在创建新对象时调用\n",
    "__del__(self) 释放对象，在对象被删除之前调用\n",
    "__new__(cls,*args,**kwd) 实例的生成操作\n",
    "__str__(self) 在使用 print 语句时被调用\n",
    "__getitem__(self,key) 获取序列的索引 key 对应的值，等价于 seq[key]\n",
    "__len__(self) 在调用内联函数 len()时被调用\n",
    "内置方法 说明\n",
    "__cmp__(stc,dst) 比较两个对象 src 和 dst\n",
    "__getattr__(s,name) 获取属性的值\n",
    "__setattr__(s,name,value) 设置属性的值\n",
    "__delattr__(s,name) 删除 name 属性\n",
    "__getattribute__() __getattribute__()功能与__getattr__()类似\n",
    "__gt__(self,other) 判断 self 对象是否大于 other 对象\n",
    "__lt__(slef,other) 判断 self 对象是否小于 other 对象\n",
    "__ge__(slef,other) 判断 self 对象是否大于或者等于 other 对象\n",
    "第 169 页\n",
    "__le__(slef,other) 判断 self 对象是否小于或者等于 other 对象\n",
    "__eq__(slef,other) 判断 self 对象是否等于 other 对象\n",
    "__call__(self,*args) 把实例对象作为函数调用\n",
    "'''\n",
    "print(s1)\n",
    "print(s1.__getattribute__('name'))"
   ]
  },
  {
   "cell_type": "code",
   "execution_count": null,
   "id": "5a37c04c-05c9-403e-9e04-7136dfd41d9a",
   "metadata": {},
   "outputs": [],
   "source": [
    "'''\n",
    "运算符重载：\n",
    "运算符 特殊方法 说明\n",
    "+ __add__ 加法\n",
    "- __sub__ 减法\n",
    "<,<=,== __lt__,__le__，__eq__ 比较运算符\n",
    ">,>=,!= __gt__,__ge__,__ne__\n",
    "|,^,& __or__,__xor__,__and__ 或、异或、与\n",
    "<<,>> __lshift__,__rshift__ 左移、右移\n",
    "*,/,%,// __mul__,__truediv__,__mod__,__floordiv__ 乘、浮点除、模运算（取余）、\n",
    "整数除\n",
    "** __pow__ 指数运算\n",
    "'''"
   ]
  },
  {
   "cell_type": "code",
   "execution_count": 22,
   "id": "fee8e9b1-2b0e-454b-ad27-d0f0b791af87",
   "metadata": {},
   "outputs": [
    {
     "name": "stdout",
     "output_type": "stream",
     "text": [
      "南昌的gdp为7800亿\n",
      "7800亿\n"
     ]
    },
    {
     "ename": "AttributeError",
     "evalue": "'C1' object has no attribute '__gdp'",
     "output_type": "error",
     "traceback": [
      "\u001B[1;31m---------------------------------------------------------------------------\u001B[0m",
      "\u001B[1;31mAttributeError\u001B[0m                            Traceback (most recent call last)",
      "Cell \u001B[1;32mIn[22], line 33\u001B[0m\n\u001B[0;32m     31\u001B[0m \u001B[38;5;66;03m#访问类的私有实例变量\u001B[39;00m\n\u001B[0;32m     32\u001B[0m \u001B[38;5;28mprint\u001B[39m(c1\u001B[38;5;241m.\u001B[39m_C1__gdp)\n\u001B[1;32m---> 33\u001B[0m \u001B[38;5;28mprint\u001B[39m(\u001B[43mc1\u001B[49m\u001B[38;5;241;43m.\u001B[39;49m\u001B[43m__gdp\u001B[49m)\n",
      "\u001B[1;31mAttributeError\u001B[0m: 'C1' object has no attribute '__gdp'"
     ]
    }
   ],
   "source": [
    "#类的私有属性和方法\n",
    "'''\n",
    "python对应类中的成员（包含实例、类属性方法和静态方法）没有严格的访问权限控制\n",
    "一般约定双下划线开头（'__'）的属性方法为私有的（private）,只能在当前类中进行访问，类的外部不能直接进行访问，\n",
    "若类的外部需要访问类的私有属性方法需要通过如下方法：_类名.__私有属性方法名\n",
    "'''\n",
    "class C1():\n",
    "    #私有的类属性\n",
    "    __msg='我是私有的类属性'\n",
    "    \n",
    "    def __init__(self,area,gdp):\n",
    "        self.area = area\n",
    "        self.__gdp = gdp\n",
    "    def __str__(self):\n",
    "        return'{0}的gdp为{1}'.format(self.area,self.__gdp)\n",
    "    #定义私有的实例方法\n",
    "    def __say(self):\n",
    "        #内的内部访问私有的类属性\n",
    "        print(C1.__msg)\n",
    "        print('{0}的gdp为{1}'.format(self.area,self.__gdp))\n",
    "    #定义私有的类方法\n",
    "    @classmethod\n",
    "    def __clsSay(cls):\n",
    "        print('我是私有的类方法')\n",
    "    #定义私有的静态方法\n",
    "    @staticmethod\n",
    "    def __staticSay():\n",
    "        print('我是私有的静态方法')\n",
    "\n",
    "c1=C1('南昌','7800亿')\n",
    "print(c1)\n",
    "#访问类的私有实例变量\n",
    "print(c1._C1__gdp)\n",
    "print(c1.__gdp)\n"
   ]
  },
  {
   "cell_type": "code",
   "execution_count": 24,
   "id": "e8bd0590-f21b-4d4b-8c6f-44b35cf73fa5",
   "metadata": {},
   "outputs": [
    {
     "name": "stdout",
     "output_type": "stream",
     "text": [
      "我是私有的类属性\n",
      "南昌的gdp为7800亿\n",
      "********************\n"
     ]
    },
    {
     "ename": "AttributeError",
     "evalue": "'C1' object has no attribute '__say'",
     "output_type": "error",
     "traceback": [
      "\u001B[1;31m---------------------------------------------------------------------------\u001B[0m",
      "\u001B[1;31mAttributeError\u001B[0m                            Traceback (most recent call last)",
      "Cell \u001B[1;32mIn[24], line 4\u001B[0m\n\u001B[0;32m      2\u001B[0m c1\u001B[38;5;241m.\u001B[39m_C1__say()\n\u001B[0;32m      3\u001B[0m \u001B[38;5;28mprint\u001B[39m(\u001B[38;5;124m'\u001B[39m\u001B[38;5;124m*\u001B[39m\u001B[38;5;124m'\u001B[39m\u001B[38;5;241m*\u001B[39m\u001B[38;5;241m20\u001B[39m)\n\u001B[1;32m----> 4\u001B[0m \u001B[43mc1\u001B[49m\u001B[38;5;241;43m.\u001B[39;49m\u001B[43m__say\u001B[49m()\n",
      "\u001B[1;31mAttributeError\u001B[0m: 'C1' object has no attribute '__say'"
     ]
    }
   ],
   "source": [
    "#测试访问私有的实例方法\n",
    "c1._C1__say()\n",
    "print('*'*20)\n",
    "c1.__say()"
   ]
  },
  {
   "cell_type": "code",
   "execution_count": 26,
   "id": "3b79be38-0146-4db0-953d-25a6a52e61c1",
   "metadata": {},
   "outputs": [
    {
     "name": "stdout",
     "output_type": "stream",
     "text": [
      "我是私有的类方法\n",
      "********************\n"
     ]
    },
    {
     "ename": "AttributeError",
     "evalue": "type object 'C1' has no attribute '__clsSay'",
     "output_type": "error",
     "traceback": [
      "\u001B[1;31m---------------------------------------------------------------------------\u001B[0m",
      "\u001B[1;31mAttributeError\u001B[0m                            Traceback (most recent call last)",
      "Cell \u001B[1;32mIn[26], line 4\u001B[0m\n\u001B[0;32m      2\u001B[0m C1\u001B[38;5;241m.\u001B[39m_C1__clsSay()\n\u001B[0;32m      3\u001B[0m \u001B[38;5;28mprint\u001B[39m(\u001B[38;5;124m'\u001B[39m\u001B[38;5;124m*\u001B[39m\u001B[38;5;124m'\u001B[39m\u001B[38;5;241m*\u001B[39m\u001B[38;5;241m20\u001B[39m)\n\u001B[1;32m----> 4\u001B[0m \u001B[43mC1\u001B[49m\u001B[38;5;241;43m.\u001B[39;49m\u001B[43m__clsSay\u001B[49m()\n",
      "\u001B[1;31mAttributeError\u001B[0m: type object 'C1' has no attribute '__clsSay'"
     ]
    }
   ],
   "source": [
    "#测试私有的类方法\n",
    "C1._C1__clsSay()\n",
    "print('*'*20)\n",
    "C1.__clsSay()"
   ]
  },
  {
   "cell_type": "code",
   "execution_count": 28,
   "id": "15f3910e-cda1-411b-b86f-866c4fceeb9b",
   "metadata": {},
   "outputs": [
    {
     "name": "stdout",
     "output_type": "stream",
     "text": [
      "我是私有的静态方法\n",
      "********************\n"
     ]
    },
    {
     "ename": "AttributeError",
     "evalue": "type object 'C1' has no attribute '__staticSay'",
     "output_type": "error",
     "traceback": [
      "\u001B[1;31m---------------------------------------------------------------------------\u001B[0m",
      "\u001B[1;31mAttributeError\u001B[0m                            Traceback (most recent call last)",
      "Cell \u001B[1;32mIn[28], line 4\u001B[0m\n\u001B[0;32m      2\u001B[0m C1\u001B[38;5;241m.\u001B[39m_C1__staticSay()\n\u001B[0;32m      3\u001B[0m \u001B[38;5;28mprint\u001B[39m(\u001B[38;5;124m'\u001B[39m\u001B[38;5;124m*\u001B[39m\u001B[38;5;124m'\u001B[39m\u001B[38;5;241m*\u001B[39m\u001B[38;5;241m20\u001B[39m)\n\u001B[1;32m----> 4\u001B[0m \u001B[43mC1\u001B[49m\u001B[38;5;241;43m.\u001B[39;49m\u001B[43m__staticSay\u001B[49m()\n",
      "\u001B[1;31mAttributeError\u001B[0m: type object 'C1' has no attribute '__staticSay'"
     ]
    }
   ],
   "source": [
    "#测试私有的静态方法\n",
    "C1._C1__staticSay()\n",
    "print('*'*20)\n",
    "C1.__staticSay()"
   ]
  },
  {
   "cell_type": "code",
   "execution_count": 48,
   "id": "17d32633-638d-414a-86d3-6b3003847b11",
   "metadata": {},
   "outputs": [
    {
     "name": "stdout",
     "output_type": "stream",
     "text": [
      "bbbbbbbbbbbbbb\n",
      "bbbbbbbbbbbbbb\n"
     ]
    }
   ],
   "source": [
    "#python中没有方法的重载，一个类中定义多个重名方法，只有最后一个方法有效(不区分实例方法、类方法和静态方法)\n",
    "#被@property和@属性名.setter装饰的同名方法可以同时存在\n",
    "class TestOverload():\n",
    "    @classmethod\n",
    "    def f1(cls):\n",
    "        print('aaaaaaaaaaa')\n",
    "    \n",
    "    def f1(cls):\n",
    "        print('bbbbbbbbbbbbbb')\n",
    "to1=TestOverload()\n",
    "to1.f1()\n",
    "TestOverload.f1()"
   ]
  },
  {
   "cell_type": "code",
   "execution_count": 38,
   "id": "898a2366-1a80-405d-82f9-ffea46018a49",
   "metadata": {},
   "outputs": [
    {
     "name": "stdout",
     "output_type": "stream",
     "text": [
      "<class 'list'>\n",
      "True\n",
      "True\n",
      "True\n"
     ]
    }
   ],
   "source": [
    "#使用type(ins)可以获取指定实例对象的类型\n",
    "#isinstance(ins,classinfo)判断实例对象ins的类型是否是classinfo中的一个\n",
    "#type函数不会考虑继承，即不认为子类是父类，而isinstance函数考虑继承，会认为子类也是父类，判断两个对象的类型是否相同推荐使用isinstance函数\n",
    "list1=[1,2]\n",
    "print(type(list1))\n",
    "print(isinstance(list1,list))\n",
    "print(isinstance(list1,type(list1)))\n",
    "print(isinstance(list1,(list,tuple,dict)))\n",
    "\n"
   ]
  },
  {
   "cell_type": "code",
   "execution_count": 41,
   "id": "d2b9754b-f694-4fc2-a80b-4e033de87f82",
   "metadata": {},
   "outputs": [
    {
     "name": "stdout",
     "output_type": "stream",
     "text": [
      "True\n",
      "False\n",
      "True\n",
      "True\n"
     ]
    }
   ],
   "source": [
    "\n",
    "print(type(s1)==Student)\n",
    "print(type(s1)==Person)\n",
    "print(isinstance(s1,Student))\n",
    "print(isinstance(s1,Person))"
   ]
  },
  {
   "cell_type": "code",
   "execution_count": 42,
   "id": "1f0e2265-cf2d-4a84-bb27-334ccab59f76",
   "metadata": {},
   "outputs": [
    {
     "name": "stdout",
     "output_type": "stream",
     "text": [
      "['C1', 'Dean', 'In', 'Out', 'Person', 'Student', 'Teacher', 'TestOverload', '_', '_10', '_12', '_3', '__', '___', '__builtin__', '__builtins__', '__doc__', '__loader__', '__name__', '__package__', '__session__', '__spec__', '_dh', '_i', '_i1', '_i10', '_i11', '_i12', '_i13', '_i14', '_i15', '_i16', '_i17', '_i18', '_i19', '_i2', '_i20', '_i21', '_i22', '_i23', '_i24', '_i25', '_i26', '_i27', '_i28', '_i29', '_i3', '_i30', '_i31', '_i32', '_i33', '_i34', '_i35', '_i36', '_i37', '_i38', '_i39', '_i4', '_i40', '_i41', '_i42', '_i5', '_i6', '_i7', '_i8', '_i9', '_ih', '_ii', '_iii', '_oh', 'c1', 'exit', 'get_ipython', 'list1', 'open', 'p1', 'quit', 's1', 'to1']\n"
     ]
    }
   ],
   "source": [
    "#dir函数 ->list\n",
    "#当dir函数没有传入参数，则返回当前范围内所有的变量、方法和定义的类\n",
    "#当dir函数传入一个对象后，返回该对象的所有属性和方法(包含类属性方法和静态方法)，若该对象类实现了__dir__()方法，则会调用该方法\n",
    "print(dir())"
   ]
  },
  {
   "cell_type": "code",
   "execution_count": 47,
   "id": "31061017-84e0-4bba-81c7-de72a6f56e03",
   "metadata": {},
   "outputs": [
    {
     "name": "stdout",
     "output_type": "stream",
     "text": [
      "['__class__', '__delattr__', '__dict__', '__dir__', '__doc__', '__eq__', '__format__', '__ge__', '__getattribute__', '__getstate__', '__gt__', '__hash__', '__init__', '__init_subclass__', '__le__', '__lt__', '__module__', '__ne__', '__new__', '__reduce__', '__reduce_ex__', '__repr__', '__setattr__', '__sizeof__', '__str__', '__subclasshook__', '__weakref__', 'a_', 'cls_']\n"
     ]
    }
   ],
   "source": [
    "class C2():\n",
    "    a_='a_'\n",
    "    def __init__(self):\n",
    "        pass\n",
    "    @staticmethod\n",
    "    def cls_():\n",
    "        pass\n",
    "c2=C2()\n",
    "print(dir(c2))\n"
   ]
  },
  {
   "cell_type": "code",
   "execution_count": 45,
   "id": "d716115e-5965-42c8-81db-4844afb8e801",
   "metadata": {},
   "outputs": [
    {
     "name": "stdout",
     "output_type": "stream",
     "text": [
      "[]\n"
     ]
    }
   ],
   "source": [
    "class C2():\n",
    "    def __init__(self):\n",
    "        pass\n",
    "    def __dir__(self):\n",
    "        return []\n",
    "c2=C2()\n",
    "print(dir(c2))"
   ]
  },
  {
   "cell_type": "code",
   "execution_count": 56,
   "id": "d7994319-a835-495d-9118-c7ca778e0cf1",
   "metadata": {},
   "outputs": [
    {
     "name": "stdout",
     "output_type": "stream",
     "text": [
      "<__main__.C3 object at 0x000001D127D5DA50>\n",
      "0\n",
      "开始设置__score的值，传入的值为1000\n",
      "1000\n"
     ]
    }
   ],
   "source": [
    "#@property装饰器将一个方法变成一个只读属性\n",
    "#@属性.setter 装饰器 将一个方法变成对应属性的setter方法\n",
    "'''\n",
    "python中方法是根据装饰器来区分，类中同名方法如果行为不同（装饰器不同）一般会不互相覆盖（非重载）\n",
    "但是@classmethod和@staticmethod会互相覆盖\n",
    "'''\n",
    "\n",
    "class C3():\n",
    "    def __init__(self):\n",
    "        self.__score=0\n",
    "    #可通过对象.score获取__score值\n",
    "    @property\n",
    "    def score(self):\n",
    "        return self.__score\n",
    "    @score.setter\n",
    "    def score(self,value):\n",
    "        print('开始设置__score的值，传入的值为%d'%value)\n",
    "        self.__score=value\n",
    "\n",
    "c3=C3()\n",
    "print(c3)\n",
    "print(c3._C3__score)\n",
    "c3.score=1000\n",
    "print(c3.score)"
   ]
  },
  {
   "cell_type": "code",
   "execution_count": 14,
   "id": "47d54e83-337d-448e-b53c-63063c8c396f",
   "metadata": {},
   "outputs": [
    {
     "name": "stdout",
     "output_type": "stream",
     "text": [
      "p1构造函数执行\n",
      "p2构造函数执行\n",
      "myf-100-myf\n",
      "[<class '__main__.Sub1'>, <class '__main__.P1'>, <class '__main__.P2'>, <class 'object'>]\n"
     ]
    }
   ],
   "source": [
    "#类的继承\n",
    "'''\n",
    "1.子类拥有父类除构造函数外所有的成员(注：私有属性无法直接self.父类属性访问)\n",
    "2.子类构造函数不会自动调用父类的构造函数，需要手动显示调用：父类名.__init__(self,*args) 调用指定的父类构造方法\n",
    "    super()用于调用父类的方法，多继承时会根据MRO 顺序查找和调用\n",
    "    MRO:在多继承中python会根据一个特定的顺序查找方法，这个顺序称为方法解析顺序（method resolution order）,通过类方法mro()可查看继承层次结构\n",
    "    属性方法@property装饰的方法不能通过super()进行调用\n",
    "3.python中支持多继承，多个父类之间使用逗号隔开\n",
    "4.子类可以重写父类的方法\n",
    "5.判断A是否继承B使用issubclass(A,B)\n",
    "6.输出类的层级结构：类的mro()方法或__mro__属性\n",
    "'''\n",
    "class P1():\n",
    "    def __init__(self,name):\n",
    "        print('p1构造函数执行')\n",
    "        self.__name=name\n",
    "    #属性方法\n",
    "    @property\n",
    "    def name(self):\n",
    "        return self.__name\n",
    "        \n",
    "    def get_name(self):\n",
    "        return self.__name\n",
    "class P2():\n",
    "    def __init__(self,age):\n",
    "        print('p2构造函数执行')\n",
    "        self.age=age\n",
    "\n",
    "#定义子类\n",
    "class Sub1(P1,P2):\n",
    "    def __init__(self,name,age):\n",
    "        P1.__init__(self,name)\n",
    "        P2.__init__(self,age)        \n",
    "        \n",
    "\n",
    "    def __str__(self):\n",
    "        #此处的self.name 是调用的P1中的name方法\n",
    "        return self.name+'-'+str(self.age)+'-'+super().get_name()\n",
    "ss1=Sub1('myf',100)\n",
    "print(ss1)\n",
    "\n",
    "print(Sub1.mro())\n",
    "\n",
    "\n",
    "\n"
   ]
  },
  {
   "cell_type": "code",
   "execution_count": 20,
   "id": "a788384f-7349-489f-8407-2df8ba41c734",
   "metadata": {},
   "outputs": [
    {
     "name": "stdout",
     "output_type": "stream",
     "text": [
      "--init---\n",
      "--init---\n",
      "1874118619408\n",
      "1874118619408\n",
      "2\n",
      "2\n"
     ]
    }
   ],
   "source": [
    "#测试单例模式\n",
    "class Single():\n",
    "    #定义一个私有的类属性\n",
    "    __instance=None\n",
    "    #重写类的创建实例方法__new__(cls)\n",
    "    def __new__(cls,*args,**kwargs):\n",
    "        if not cls.__instance:\n",
    "            Single.__instance=super().__new__(cls)\n",
    "        return Single.__instance\n",
    "    def __init__(self,name):\n",
    "        print('--init---')\n",
    "        self.name=name\n",
    "\n",
    "    def __str__(self):\n",
    "        return self.name\n",
    "\n",
    "mm1=Single('1')\n",
    "mm2=Single('2')\n",
    "print(id(mm1))\n",
    "print(id(mm2))\n",
    "print(mm1)\n",
    "print(mm2)\n",
    "\n",
    "\n",
    "    "
   ]
  },
  {
   "cell_type": "markdown",
   "id": "9725668f-0d82-4aba-ad83-cf12adf2d9ec",
   "metadata": {},
   "source": [
    "  上诉结果说明两个对象是同一个，但是后一次调用对象创建和初始化方法后name被改成了2"
   ]
  },
  {
   "cell_type": "code",
   "execution_count": 23,
   "id": "2ceea86b-ee32-4681-bc71-33551820e5a9",
   "metadata": {},
   "outputs": [
    {
     "name": "stdout",
     "output_type": "stream",
     "text": [
      "--init---\n",
      "1874118671568\n",
      "1874118671568\n",
      "1\n",
      "1\n"
     ]
    }
   ],
   "source": [
    "class Single():\n",
    "    #定义一个私有的类属性\n",
    "    __instance=None\n",
    "    #重写类的创建实例方法__new__(cls)\n",
    "    def __new__(cls,*args,**kwargs):\n",
    "        if not cls.__instance:\n",
    "            Single.__instance=super().__new__(cls)\n",
    "        return Single.__instance\n",
    "    def __init__(self,name):\n",
    "        if not hasattr(self,'initialized'):\n",
    "            print('--init---')\n",
    "            self.name=name\n",
    "            self.initialized=True\n",
    "        \n",
    "        \n",
    "\n",
    "    def __str__(self):\n",
    "        return self.name\n",
    "\n",
    "mm1=Single('1')\n",
    "mm2=Single('2')\n",
    "print(id(mm1))\n",
    "print(id(mm2))\n",
    "print(mm1)\n",
    "print(mm2)"
   ]
  },
  {
   "cell_type": "code",
   "execution_count": null,
   "id": "6b9f897c-7c37-4dfd-9615-b2b6dc4f78a7",
   "metadata": {},
   "outputs": [],
   "source": []
  }
 ],
 "metadata": {
  "kernelspec": {
   "display_name": "Python 3 (ipykernel)",
   "language": "python",
   "name": "python3"
  },
  "language_info": {
   "codemirror_mode": {
    "name": "ipython",
    "version": 3
   },
   "file_extension": ".py",
   "mimetype": "text/x-python",
   "name": "python",
   "nbconvert_exporter": "python",
   "pygments_lexer": "ipython3",
   "version": "3.11.11"
  }
 },
 "nbformat": 4,
 "nbformat_minor": 5
}
