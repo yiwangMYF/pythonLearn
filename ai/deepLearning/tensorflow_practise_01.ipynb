{
 "cells": [
  {
   "cell_type": "code",
   "id": "initial_id",
   "metadata": {
    "collapsed": true,
    "ExecuteTime": {
     "end_time": "2025-03-24T01:22:23.283085Z",
     "start_time": "2025-03-24T01:22:23.277095Z"
    }
   },
   "source": [
    "'''\n",
    "tensorFlow 深度学习框架\n",
    "特性：\n",
    "（1）高灵活性：TensorFlow不仅用于神经网络，而且只要计算过程可以表示为一个数据流图，就可以\n",
    "使用TensorFlow。TensorFlow提供了丰富的工具，以辅助组装算法模型，还可以自定义很多操作。如果熟\n",
    "悉C++，也可以改底层，其核心代码都是由C组成的，Python相当于接口。\n",
    "（2）可移植性：TensorFlow可以在CPU和GPU上运行，例如台式机、服务器、手机移动设备等，还\n",
    "可以在嵌入式设备以及APP或者云端服务与Docker中进行应用。\n",
    "（3）更新选代迅速：深度学习与神经网络发展迅速，经常会出现新的算法与模型结构，如果让大\n",
    "家自己优化算法与模型结构可能较为复杂，TensorFlow随着更新会持续引l进新的模型与结构，让代码更\n",
    "简单。\n",
    "（4）自动求微分：基于梯度的机器学习算法会受益于TensorFlow自动求微分的能力。作为TensorFlow\n",
    "用户，只需要定义预测模型的结构，将这个结构和目标函数结合在一起。给定输入数据后，TensorFlow将自\n",
    "动完成微分导数，相当于帮大家完成了最复杂的计算。\n",
    "（5）多语言支持：TensorFlow有一个合理的C++使用界面，也有一个易用的Python使用界面来构建\n",
    "和训练网络模型。最简单实用的就是Python接口，也可以在交互式的ipython界面中用TensorFlow尝试某\n",
    "些想法，它可以帮你将笔记、代码、可视化等有条理地归置好。随着升级更新，后续还会加入Go、Java、\n",
    "Lua、Javascript、R等语言接口。\n",
    "（6）性能最优化：TensorFlow给线程、队列、异步操作等以最佳的支持，可以将硬件的计算潜能全\n",
    "部发挥出来，还可以自由地将TensorFlow图中的计算元素分配到不同设备上，并且帮你管理好这些不同\n",
    "副本。\n",
    "'''\n",
    "import tensorflow as tf\n",
    "print(tf.zeros([2,2]))\n",
    "print(type(tf.zeros([2,2])))"
   ],
   "outputs": [
    {
     "name": "stdout",
     "output_type": "stream",
     "text": [
      "tf.Tensor(\n",
      "[[0. 0.]\n",
      " [0. 0.]], shape=(2, 2), dtype=float32)\n",
      "<class 'tensorflow.python.framework.ops.EagerTensor'>\n"
     ]
    }
   ],
   "execution_count": 2
  },
  {
   "metadata": {
    "ExecuteTime": {
     "end_time": "2025-03-24T02:02:54.507322Z",
     "start_time": "2025-03-24T02:02:54.486987Z"
    }
   },
   "cell_type": "code",
   "source": [
    "'''\n",
    "-- -------------------------------------------------------------------------------------\n",
    "assign(val)：改变变量的值为val,不改变当前变量的引用\n",
    "tf.constant(val):创建常量\n",
    "tf.Variable(val):创建变量\n",
    "'''\n",
    "#创建常量\n",
    "x_c=tf.constant(1.3)\n",
    "w_c=tf.Variable(1.5)\n",
    "print(x_c,w_c)\n",
    "print(type(x_c),type(w_c))\n",
    "w_c.assign(30)\n",
    "print(w_c)\n",
    "print('-'*20)\n",
    "x_c.assign(20)\n",
    "print(x_c)\n"
   ],
   "id": "aa9dcf576459169b",
   "outputs": [
    {
     "name": "stdout",
     "output_type": "stream",
     "text": [
      "tf.Tensor(1.3, shape=(), dtype=float32) <tf.Variable 'Variable:0' shape=() dtype=float32, numpy=1.5>\n",
      "<class 'tensorflow.python.framework.ops.EagerTensor'> <class 'tensorflow.python.ops.resource_variable_ops.ResourceVariable'>\n",
      "<tf.Variable 'Variable:0' shape=() dtype=float32, numpy=30.0>\n",
      "--------------------\n"
     ]
    },
    {
     "ename": "AttributeError",
     "evalue": "'tensorflow.python.framework.ops.EagerTensor' object has no attribute 'assign'",
     "output_type": "error",
     "traceback": [
      "\u001B[1;31m---------------------------------------------------------------------------\u001B[0m",
      "\u001B[1;31mAttributeError\u001B[0m                            Traceback (most recent call last)",
      "Cell \u001B[1;32mIn[10], line 23\u001B[0m\n\u001B[0;32m     21\u001B[0m \u001B[38;5;28mprint\u001B[39m(w_c)\n\u001B[0;32m     22\u001B[0m \u001B[38;5;28mprint\u001B[39m(\u001B[38;5;124m'\u001B[39m\u001B[38;5;124m-\u001B[39m\u001B[38;5;124m'\u001B[39m\u001B[38;5;241m*\u001B[39m\u001B[38;5;241m20\u001B[39m)\n\u001B[1;32m---> 23\u001B[0m \u001B[43mx_c\u001B[49m\u001B[38;5;241;43m.\u001B[39;49m\u001B[43massign\u001B[49m(\u001B[38;5;241m20\u001B[39m)\n\u001B[0;32m     24\u001B[0m \u001B[38;5;28mprint\u001B[39m(x_c)\n",
      "File \u001B[1;32mD:\\python\\Lib\\site-packages\\tensorflow\\python\\framework\\tensor.py:260\u001B[0m, in \u001B[0;36mTensor.__getattr__\u001B[1;34m(self, name)\u001B[0m\n\u001B[0;32m    252\u001B[0m \u001B[38;5;28;01mif\u001B[39;00m name \u001B[38;5;129;01min\u001B[39;00m {\u001B[38;5;124m\"\u001B[39m\u001B[38;5;124mT\u001B[39m\u001B[38;5;124m\"\u001B[39m, \u001B[38;5;124m\"\u001B[39m\u001B[38;5;124mastype\u001B[39m\u001B[38;5;124m\"\u001B[39m, \u001B[38;5;124m\"\u001B[39m\u001B[38;5;124mravel\u001B[39m\u001B[38;5;124m\"\u001B[39m, \u001B[38;5;124m\"\u001B[39m\u001B[38;5;124mtranspose\u001B[39m\u001B[38;5;124m\"\u001B[39m, \u001B[38;5;124m\"\u001B[39m\u001B[38;5;124mreshape\u001B[39m\u001B[38;5;124m\"\u001B[39m, \u001B[38;5;124m\"\u001B[39m\u001B[38;5;124mclip\u001B[39m\u001B[38;5;124m\"\u001B[39m, \u001B[38;5;124m\"\u001B[39m\u001B[38;5;124msize\u001B[39m\u001B[38;5;124m\"\u001B[39m,\n\u001B[0;32m    253\u001B[0m             \u001B[38;5;124m\"\u001B[39m\u001B[38;5;124mtolist\u001B[39m\u001B[38;5;124m\"\u001B[39m, \u001B[38;5;124m\"\u001B[39m\u001B[38;5;124mdata\u001B[39m\u001B[38;5;124m\"\u001B[39m}:\n\u001B[0;32m    254\u001B[0m   \u001B[38;5;66;03m# TODO(wangpeng): Export the enable_numpy_behavior knob\u001B[39;00m\n\u001B[0;32m    255\u001B[0m   \u001B[38;5;28;01mraise\u001B[39;00m \u001B[38;5;167;01mAttributeError\u001B[39;00m(\n\u001B[0;32m    256\u001B[0m       \u001B[38;5;124mf\u001B[39m\u001B[38;5;124m\"\u001B[39m\u001B[38;5;132;01m{\u001B[39;00m\u001B[38;5;28mtype\u001B[39m(\u001B[38;5;28mself\u001B[39m)\u001B[38;5;241m.\u001B[39m\u001B[38;5;18m__name__\u001B[39m\u001B[38;5;132;01m}\u001B[39;00m\u001B[38;5;124m object has no attribute \u001B[39m\u001B[38;5;124m'\u001B[39m\u001B[38;5;132;01m{\u001B[39;00mname\u001B[38;5;132;01m}\u001B[39;00m\u001B[38;5;124m'\u001B[39m\u001B[38;5;124m. \u001B[39m\u001B[38;5;124m\"\u001B[39m \u001B[38;5;241m+\u001B[39m \u001B[38;5;124m\"\"\"\u001B[39m\n\u001B[0;32m    257\u001B[0m \u001B[38;5;124m    If you are looking for numpy-related methods, please run the following:\u001B[39m\n\u001B[0;32m    258\u001B[0m \u001B[38;5;124m    tf.experimental.numpy.experimental_enable_numpy_behavior()\u001B[39m\n\u001B[0;32m    259\u001B[0m \u001B[38;5;124m  \u001B[39m\u001B[38;5;124m\"\"\"\u001B[39m)\n\u001B[1;32m--> 260\u001B[0m \u001B[38;5;28;43mself\u001B[39;49m\u001B[38;5;241;43m.\u001B[39;49m\u001B[38;5;21;43m__getattribute__\u001B[39;49m\u001B[43m(\u001B[49m\u001B[43mname\u001B[49m\u001B[43m)\u001B[49m\n",
      "\u001B[1;31mAttributeError\u001B[0m: 'tensorflow.python.framework.ops.EagerTensor' object has no attribute 'assign'"
     ]
    }
   ],
   "execution_count": 10
  },
  {
   "metadata": {
    "ExecuteTime": {
     "end_time": "2025-03-24T02:45:33.424449Z",
     "start_time": "2025-03-24T02:45:33.385709Z"
    }
   },
   "cell_type": "code",
   "source": [
    "'''\n",
    "tensorflow1.x工作流程(静态图模式):\n",
    "    1.创建变量或常量\n",
    "    2.定义处理逻辑（构建神经网络图）\n",
    "    3.创建session会话，初始化变量，调用run方法执行处理逻辑\n",
    "    4.关闭session会话\n",
    "tensorflow 1.x是先构建静态图，再进行模型训练\n",
    "tensorflow 2.x采用及时执行策略，不需要先构建静态图，速度会慢于1.x,但是可以使用@tf.function 装饰器进行优化\n",
    "\n",
    "- 在 TensorFlow 1.x 中，变量 (tf.Variable) 的值不能直接获取，必须在 Session 中运行 sess.run() 或使用 eval() 方法\n",
    "- eval():1.x中获取张量值的函数\n",
    "- 2.x Eager Execution模式下使用numpy()函数获取值\n",
    "'''\n",
    "import tensorflow as tf\n",
    "#关闭2.x版本的及时执行模式\n",
    "tf.compat.v1.disable_eager_execution()\n",
    "\n",
    "#创建变量\n",
    "a=tf.Variable([[1,2],[3,4]])\n",
    "b=tf.Variable([[1],[2]])\n",
    "print(a,b)\n",
    "c=tf.matmul(a,b)\n",
    "\n",
    "#全局变量初始化器\n",
    "init=tf.compat.v1.global_variables_initializer()\n",
    "\n",
    "with tf.compat.v1.Session() as sess:\n",
    "    #初始化变量\n",
    "    sess.run(init)\n",
    "    #执行操作\n",
    "    sess.run(c)\n",
    "    print(f'a:{a.eval()}\\n\\rb:{b.eval()}')\n",
    "    print('c:',c.eval(session=sess))"
   ],
   "id": "6c18e257f79553b7",
   "outputs": [
    {
     "name": "stdout",
     "output_type": "stream",
     "text": [
      "<tf.Variable 'Variable_26:0' shape=(2, 2) dtype=int32> <tf.Variable 'Variable_27:0' shape=(2, 1) dtype=int32>\n",
      "a:[[1 2]\n",
      " [3 4]]\n",
      "b:[[1]\n",
      " [2]]\n",
      "c: [[ 5]\n",
      " [11]]\n"
     ]
    }
   ],
   "execution_count": 28
  },
  {
   "metadata": {
    "ExecuteTime": {
     "end_time": "2025-03-24T02:53:26.314146Z",
     "start_time": "2025-03-24T02:53:26.081256Z"
    }
   },
   "cell_type": "code",
   "source": [
    "'''\n",
    "tensorflow2.x执行矩阵相乘\n",
    "'''\n",
    "import tensorflow as tf\n",
    "#开启及时计算模式，tf.enable_eager_execution必须在程序一开始时调用，由于\n",
    "#前面关闭了，所以这里想再次开启会报错\n",
    "tf.compat.v1.enable_eager_execution()\n",
    "\n",
    "a=tf.Variable([[1,2],[3,4]])\n",
    "b=tf.Variable([[1],[2]])\n",
    "print(a.numpy())\n",
    "c=tf.matmul(a,b)"
   ],
   "id": "35831045b727eea4",
   "outputs": [
    {
     "ename": "ValueError",
     "evalue": "tf.enable_eager_execution must be called at program startup.",
     "output_type": "error",
     "traceback": [
      "\u001B[1;31m---------------------------------------------------------------------------\u001B[0m",
      "\u001B[1;31mValueError\u001B[0m                                Traceback (most recent call last)",
      "Cell \u001B[1;32mIn[30], line 6\u001B[0m\n\u001B[0;32m      4\u001B[0m \u001B[38;5;28;01mimport\u001B[39;00m\u001B[38;5;250m \u001B[39m\u001B[38;5;21;01mtensorflow\u001B[39;00m\u001B[38;5;250m \u001B[39m\u001B[38;5;28;01mas\u001B[39;00m\u001B[38;5;250m \u001B[39m\u001B[38;5;21;01mtf\u001B[39;00m\n\u001B[0;32m      5\u001B[0m \u001B[38;5;66;03m#开启及时计算模式\u001B[39;00m\n\u001B[1;32m----> 6\u001B[0m \u001B[43mtf\u001B[49m\u001B[38;5;241;43m.\u001B[39;49m\u001B[43mcompat\u001B[49m\u001B[38;5;241;43m.\u001B[39;49m\u001B[43mv1\u001B[49m\u001B[38;5;241;43m.\u001B[39;49m\u001B[43menable_eager_execution\u001B[49m\u001B[43m(\u001B[49m\u001B[43m)\u001B[49m\n\u001B[0;32m      8\u001B[0m a\u001B[38;5;241m=\u001B[39mtf\u001B[38;5;241m.\u001B[39mVariable([[\u001B[38;5;241m1\u001B[39m,\u001B[38;5;241m2\u001B[39m],[\u001B[38;5;241m3\u001B[39m,\u001B[38;5;241m4\u001B[39m]])\n\u001B[0;32m      9\u001B[0m b\u001B[38;5;241m=\u001B[39mtf\u001B[38;5;241m.\u001B[39mVariable([[\u001B[38;5;241m1\u001B[39m],[\u001B[38;5;241m2\u001B[39m]])\n",
      "File \u001B[1;32mD:\\python\\Lib\\site-packages\\tensorflow\\python\\framework\\ops.py:4967\u001B[0m, in \u001B[0;36menable_eager_execution\u001B[1;34m(config, device_policy, execution_mode)\u001B[0m\n\u001B[0;32m   4965\u001B[0m logging\u001B[38;5;241m.\u001B[39mvlog(\u001B[38;5;241m1\u001B[39m, \u001B[38;5;124m\"\u001B[39m\u001B[38;5;124mEnabling eager execution\u001B[39m\u001B[38;5;124m\"\u001B[39m)\n\u001B[0;32m   4966\u001B[0m \u001B[38;5;28;01mif\u001B[39;00m context\u001B[38;5;241m.\u001B[39mdefault_execution_mode \u001B[38;5;241m!=\u001B[39m context\u001B[38;5;241m.\u001B[39mEAGER_MODE:\n\u001B[1;32m-> 4967\u001B[0m   \u001B[38;5;28;01mreturn\u001B[39;00m \u001B[43menable_eager_execution_internal\u001B[49m\u001B[43m(\u001B[49m\n\u001B[0;32m   4968\u001B[0m \u001B[43m      \u001B[49m\u001B[43mconfig\u001B[49m\u001B[38;5;241;43m=\u001B[39;49m\u001B[43mconfig\u001B[49m\u001B[43m,\u001B[49m\n\u001B[0;32m   4969\u001B[0m \u001B[43m      \u001B[49m\u001B[43mdevice_policy\u001B[49m\u001B[38;5;241;43m=\u001B[39;49m\u001B[43mdevice_policy\u001B[49m\u001B[43m,\u001B[49m\n\u001B[0;32m   4970\u001B[0m \u001B[43m      \u001B[49m\u001B[43mexecution_mode\u001B[49m\u001B[38;5;241;43m=\u001B[39;49m\u001B[43mexecution_mode\u001B[49m\u001B[43m,\u001B[49m\n\u001B[0;32m   4971\u001B[0m \u001B[43m      \u001B[49m\u001B[43mserver_def\u001B[49m\u001B[38;5;241;43m=\u001B[39;49m\u001B[38;5;28;43;01mNone\u001B[39;49;00m\u001B[43m)\u001B[49m\n",
      "File \u001B[1;32mD:\\python\\Lib\\site-packages\\tensorflow\\python\\framework\\ops.py:5031\u001B[0m, in \u001B[0;36menable_eager_execution_internal\u001B[1;34m(config, device_policy, execution_mode, server_def)\u001B[0m\n\u001B[0;32m   5028\u001B[0m   graph_mode_has_been_used \u001B[38;5;241m=\u001B[39m (\n\u001B[0;32m   5029\u001B[0m       _default_graph_stack\u001B[38;5;241m.\u001B[39m_global_default_graph \u001B[38;5;129;01mis\u001B[39;00m \u001B[38;5;129;01mnot\u001B[39;00m \u001B[38;5;28;01mNone\u001B[39;00m)  \u001B[38;5;66;03m# pylint: disable=protected-access\u001B[39;00m\n\u001B[0;32m   5030\u001B[0m   \u001B[38;5;28;01mif\u001B[39;00m graph_mode_has_been_used:\n\u001B[1;32m-> 5031\u001B[0m     \u001B[38;5;28;01mraise\u001B[39;00m \u001B[38;5;167;01mValueError\u001B[39;00m(\n\u001B[0;32m   5032\u001B[0m         \u001B[38;5;124m\"\u001B[39m\u001B[38;5;124mtf.enable_eager_execution must be called at program startup.\u001B[39m\u001B[38;5;124m\"\u001B[39m)\n\u001B[0;32m   5033\u001B[0m context\u001B[38;5;241m.\u001B[39mdefault_execution_mode \u001B[38;5;241m=\u001B[39m context\u001B[38;5;241m.\u001B[39mEAGER_MODE\n\u001B[0;32m   5034\u001B[0m \u001B[38;5;66;03m# pylint: disable=protected-access\u001B[39;00m\n",
      "\u001B[1;31mValueError\u001B[0m: tf.enable_eager_execution must be called at program startup."
     ]
    }
   ],
   "execution_count": 30
  }
 ],
 "metadata": {
  "kernelspec": {
   "display_name": "Python 3",
   "language": "python",
   "name": "python3"
  },
  "language_info": {
   "codemirror_mode": {
    "name": "ipython",
    "version": 2
   },
   "file_extension": ".py",
   "mimetype": "text/x-python",
   "name": "python",
   "nbconvert_exporter": "python",
   "pygments_lexer": "ipython2",
   "version": "2.7.6"
  }
 },
 "nbformat": 4,
 "nbformat_minor": 5
}
