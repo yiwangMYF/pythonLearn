{
 "cells": [
  {
   "cell_type": "code",
   "execution_count": null,
   "id": "initial_id",
   "metadata": {
    "collapsed": true
   },
   "outputs": [],
   "source": [
    "'''\n",
    "线程是实现多任务的一种方式。一个进程可以拥有多个并行的线程，多个线程共享当前进程的资源。\n",
    "线程执行的开销小，但是不利于资源的管理和保护\n",
    "python3中线程的模块为_thread和threading模块\n",
    "_thread模块创建线程：——thread.\n",
    "'''\n",
    "\n",
    "\n",
    "import _thread\n",
    "import threading\n",
    "\n",
    "def func():\n",
    "    print(threading.current_thread().name,)\n",
    "\n",
    "# _thread.start_new_thread(,(\"Thread-1\",))\n"
   ]
  }
 ],
 "metadata": {
  "kernelspec": {
   "display_name": "Python 3",
   "language": "python",
   "name": "python3"
  },
  "language_info": {
   "codemirror_mode": {
    "name": "ipython",
    "version": 2
   },
   "file_extension": ".py",
   "mimetype": "text/x-python",
   "name": "python",
   "nbconvert_exporter": "python",
   "pygments_lexer": "ipython2",
   "version": "2.7.6"
  }
 },
 "nbformat": 4,
 "nbformat_minor": 5
}
