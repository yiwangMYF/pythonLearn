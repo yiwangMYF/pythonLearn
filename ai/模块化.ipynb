{
 "cells": [
  {
   "cell_type": "markdown",
   "id": "a838aba3-6103-4fb0-b8df-987350eeec5f",
   "metadata": {},
   "source": [
    "1. 一个python文件就是一个模块，模块的名称默认与文件名相同，可以通过特殊变量__name__获取\n",
    "正常情况下__name__值为文件名，但是当一个模块被当做程序入库时__name__的值为\"__main__\"\n",
    "\n",
    "2. 模块的导入方式:\n",
    "   - import module1,module2\n",
    "   - from module import f1\n",
    "   - from module import *\n",
    "3. 一个模块被导入时，模块中的代码会被执行，但是多次导入不会重复执行\n",
    "\n",
    "4. 多个模块放在同一个目录上，且该目录下存在__init__.py文件，该目录被称为‘包’\n",
    "\n",
    "5. 包的导入：\n",
    "    - from package import module\n",
    "    - import package.module\n",
    "    - from package.module import function1"
   ]
  },
  {
   "cell_type": "code",
   "execution_count": null,
   "id": "336e8b49-aa2b-49a6-a32b-4d688dff3b53",
   "metadata": {},
   "outputs": [],
   "source": []
  }
 ],
 "metadata": {
  "kernelspec": {
   "display_name": "Python 3 (ipykernel)",
   "language": "python",
   "name": "python3"
  },
  "language_info": {
   "codemirror_mode": {
    "name": "ipython",
    "version": 3
   },
   "file_extension": ".py",
   "mimetype": "text/x-python",
   "name": "python",
   "nbconvert_exporter": "python",
   "pygments_lexer": "ipython3",
   "version": "3.11.11"
  }
 },
 "nbformat": 4,
 "nbformat_minor": 5
}
