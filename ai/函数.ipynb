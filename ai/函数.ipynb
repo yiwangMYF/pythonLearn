{
 "cells": [
  {
   "cell_type": "markdown",
   "id": "4b46efae-512b-43a3-9c5b-eab486a30233",
   "metadata": {},
   "source": [
    "1. 函数的定义\n",
    "def 函数名([arg1,arg2...]):\n",
    "    代码\n",
    "   [return]"
   ]
  },
  {
   "cell_type": "code",
   "execution_count": 2,
   "id": "bee1e4cb-b74a-4a6d-9786-6199a6555faa",
   "metadata": {},
   "outputs": [
    {
     "name": "stdout",
     "output_type": "stream",
     "text": [
      "a new message:hhh\n"
     ]
    }
   ],
   "source": [
    "def log(msg):\n",
    "    print('a new message:%s'%msg)\n",
    "log(\"hhh\")"
   ]
  },
  {
   "cell_type": "code",
   "execution_count": 4,
   "id": "29e15474-dfff-4f41-ad28-cf753f52f40e",
   "metadata": {},
   "outputs": [
    {
     "name": "stdout",
     "output_type": "stream",
     "text": [
      "a new message:3\n"
     ]
    }
   ],
   "source": [
    "def add_(a,b):\n",
    "    return a+b;\n",
    "log(add_(1,2))"
   ]
  },
  {
   "cell_type": "code",
   "execution_count": 5,
   "id": "9c8d783a-4a20-4c09-8464-2516ebcef7d7",
   "metadata": {},
   "outputs": [
    {
     "name": "stdout",
     "output_type": "stream",
     "text": [
      "我是函数1\n"
     ]
    }
   ],
   "source": [
    "#给函数添加注释，其中函数的__doc__属性可以获取函数的文档注释（''' '''）\n",
    "def f1():\n",
    "    '''我是函数1'''\n",
    "print(f1.__doc__)"
   ]
  },
  {
   "cell_type": "code",
   "execution_count": 7,
   "id": "4bef1499-4b9e-4c97-b7a9-592407c09796",
   "metadata": {},
   "outputs": [
    {
     "name": "stdout",
     "output_type": "stream",
     "text": [
      "1001\n",
      "3333\n",
      "1001\n"
     ]
    }
   ],
   "source": [
    "'''\n",
    "局部变量：函数内部声明的变量，只能在函数内使用\n",
    "全局变量：函数和类定义之外申明的变量，可以被所有的函数使用，作用于整个程序\n",
    "局部变量和全局变量重名时，遵循“就近原则”，即有局部变量使用局部变量，无局部变量使用全局变量\n",
    "正常情况下无法直接在函数中修改全局变量，但是可以通过global关键字申明当前变量为全局变量，然后去修改\n",
    "'''\n",
    "var1=100\n",
    "def f2():\n",
    "    global var1\n",
    "    var1=1001\n",
    "    return var1\n",
    "def f3():\n",
    "    var1=3333\n",
    "    return var1\n",
    "print(f2())\n",
    "print(f3())\n",
    "print(var1)"
   ]
  },
  {
   "cell_type": "code",
   "execution_count": 9,
   "id": "e6c70f51-29da-4001-b8a1-ae88f730767d",
   "metadata": {},
   "outputs": [
    {
     "name": "stdout",
     "output_type": "stream",
     "text": [
      "a b c\n"
     ]
    }
   ],
   "source": [
    "#位置参数：函数调用时实参按照形参顺序传递值,顺序和数量必须匹配\n",
    "def ff1(a,b,c):\n",
    "    print(a,b,c)\n",
    "ff1('a','b','c')"
   ]
  },
  {
   "cell_type": "code",
   "execution_count": 11,
   "id": "140b35ba-59ea-4175-a080-bee646fc66fd",
   "metadata": {},
   "outputs": [
    {
     "name": "stdout",
     "output_type": "stream",
     "text": [
      "1\n",
      "3\n",
      "4\n",
      "-------------------\n",
      "1\n",
      "9\n",
      "4\n",
      "-------------------\n",
      "1\n",
      "9\n",
      "100\n"
     ]
    }
   ],
   "source": [
    "#默认参数，函数申明时可以给参数添加默认值\n",
    "#默认参数必须在非默认参数的后面，若函数调用时没有给默认参数传值，则函数调用时使用形参的默认值\n",
    "#多个默认参数时，按位置顺序接受实参传值\n",
    "def ff2(a,b=3,c=4):\n",
    "    print(a)\n",
    "    print(b)\n",
    "    print(c)\n",
    "ff2(1)\n",
    "print('-------------------')\n",
    "ff2(1,9)\n",
    "print('-------------------')\n",
    "ff2(1,9,100)"
   ]
  },
  {
   "cell_type": "code",
   "execution_count": 12,
   "id": "cfbef1f5-f4cc-4c9f-a37f-fe4fa2763f80",
   "metadata": {},
   "outputs": [
    {
     "name": "stdout",
     "output_type": "stream",
     "text": [
      "6\n",
      "5\n"
     ]
    }
   ],
   "source": [
    "#关键字参数：函数调用时按照参数名传递参数值，不用保证与形参顺序一致\n",
    "def ff3(a,b):\n",
    "    print(a)\n",
    "    print(b)\n",
    "ff3(b=5,a=6)"
   ]
  },
  {
   "cell_type": "code",
   "execution_count": 13,
   "id": "a055b328-0a34-4a22-a8b3-8f3dd87c14af",
   "metadata": {},
   "outputs": [
    {
     "name": "stdout",
     "output_type": "stream",
     "text": [
      "1 2\n",
      "(3, 4, 5)\n",
      "20\n",
      "{'d': 30}\n"
     ]
    }
   ],
   "source": [
    "#可变参数：函数申明时若在形参前加上\"*\",则函数调用时会把多个参数值收集到一个元组对象中（可变位置参数），若\n",
    "#形参前加上2个“*”则会把多个参数收集到一个字典对象中（可变关键字参数参数）\n",
    "#函数申明时，可变位置参数后面必须是关键字参数或关键子可变参数，而可变关键字参数必须是最后一个参数\n",
    "def func(a, b, *args, c=10, **kwargs):\n",
    "    print(a, b)\n",
    "    print(args)   # 位置参数 *args\n",
    "    print(c)      # 默认参数 c\n",
    "    print(kwargs)  # 关键字参数 **kwargs\n",
    "\n",
    "func(1, 2, 3, 4, 5, c=20, d=30)\n"
   ]
  },
  {
   "cell_type": "code",
   "execution_count": 16,
   "id": "88d27020-8b7f-4b92-b19e-50e353680147",
   "metadata": {},
   "outputs": [
    {
     "ename": "SyntaxError",
     "evalue": "arguments cannot follow var-keyword argument (3677450456.py, line 1)",
     "output_type": "error",
     "traceback": [
      "\u001b[1;36m  Cell \u001b[1;32mIn[16], line 1\u001b[1;36m\u001b[0m\n\u001b[1;33m    def func(a, b, *args,**kwargs,c=10):\u001b[0m\n\u001b[1;37m                                  ^\u001b[0m\n\u001b[1;31mSyntaxError\u001b[0m\u001b[1;31m:\u001b[0m arguments cannot follow var-keyword argument\n"
     ]
    }
   ],
   "source": [
    "def func(a, b, *args,**kwargs,c=10):\n",
    "    print(a, b)\n",
    "    print(args)   # 位置参数 *args\n",
    "    print(c)      # 默认参数 c\n",
    "    print(kwargs)  # 关键字参数 **kwargs\n",
    "\n",
    "func(1, 2, 3, 4, 5, c=20, d=30)"
   ]
  },
  {
   "cell_type": "code",
   "execution_count": null,
   "id": "67c10c88-17e9-4d4f-a4c8-f000241aecb6",
   "metadata": {},
   "outputs": [],
   "source": []
  }
 ],
 "metadata": {
  "kernelspec": {
   "display_name": "Python 3 (ipykernel)",
   "language": "python",
   "name": "python3"
  },
  "language_info": {
   "codemirror_mode": {
    "name": "ipython",
    "version": 3
   },
   "file_extension": ".py",
   "mimetype": "text/x-python",
   "name": "python",
   "nbconvert_exporter": "python",
   "pygments_lexer": "ipython3",
   "version": "3.11.11"
  }
 },
 "nbformat": 4,
 "nbformat_minor": 5
}
