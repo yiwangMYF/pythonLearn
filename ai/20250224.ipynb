{
 "cells": [
  {
   "cell_type": "code",
   "id": "initial_id",
   "metadata": {
    "collapsed": true,
    "ExecuteTime": {
     "end_time": "2025-02-24T03:59:16.418220Z",
     "start_time": "2025-02-24T03:59:15.565265Z"
    }
   },
   "source": [
    "import numpy as np\n",
    "import matplotlib.pyplot as plt\n",
    "\n",
    "#生成随机矩阵\n",
    "arr1=np.random.rand(3,2)\n",
    "print(arr1)"
   ],
   "outputs": [
    {
     "name": "stdout",
     "output_type": "stream",
     "text": [
      "[[0.20238086 0.93113532]\n",
      " [0.71452458 0.40564642]\n",
      " [0.4569982  0.54938516]]\n"
     ]
    }
   ],
   "execution_count": 2
  },
  {
   "metadata": {
    "ExecuteTime": {
     "end_time": "2025-02-24T03:50:36.168125Z",
     "start_time": "2025-02-24T03:50:36.163915Z"
    }
   },
   "cell_type": "code",
   "source": [
    "arr2=np.random.rand(3,2,4)\n",
    "print(arr2)"
   ],
   "id": "b6f39439d5914cdf",
   "outputs": [
    {
     "name": "stdout",
     "output_type": "stream",
     "text": [
      "[[[0.23687627 0.19938817 0.84477923 0.5096447 ]\n",
      "  [0.69119396 0.97330095 0.66684785 0.84609316]]\n",
      "\n",
      " [[0.67290984 0.76582579 0.45957755 0.70151552]\n",
      "  [0.84126641 0.49737255 0.42676384 0.89840264]]\n",
      "\n",
      " [[0.33368606 0.06161586 0.74987785 0.11848081]\n",
      "  [0.00751836 0.74043803 0.09762556 0.87294058]]]\n"
     ]
    }
   ],
   "execution_count": 2
  },
  {
   "metadata": {
    "ExecuteTime": {
     "end_time": "2025-02-24T03:59:19.912361Z",
     "start_time": "2025-02-24T03:59:19.908714Z"
    }
   },
   "cell_type": "code",
   "source": [
    "zt1=np.random.randn(10,1)\n",
    "print(zt1)\n",
    "np.linspace"
   ],
   "id": "88a77cbba61ad7b6",
   "outputs": [
    {
     "name": "stdout",
     "output_type": "stream",
     "text": [
      "[[ 0.99773702]\n",
      " [-1.23403476]\n",
      " [-0.12663622]\n",
      " [-2.79386947]\n",
      " [ 0.66570479]\n",
      " [ 0.11862897]\n",
      " [ 0.13321163]\n",
      " [-0.23888661]\n",
      " [ 0.05246222]\n",
      " [ 1.29240838]]\n"
     ]
    }
   ],
   "execution_count": 3
  }
 ],
 "metadata": {
  "kernelspec": {
   "display_name": "Python 3",
   "language": "python",
   "name": "python3"
  },
  "language_info": {
   "codemirror_mode": {
    "name": "ipython",
    "version": 2
   },
   "file_extension": ".py",
   "mimetype": "text/x-python",
   "name": "python",
   "nbconvert_exporter": "python",
   "pygments_lexer": "ipython2",
   "version": "2.7.6"
  }
 },
 "nbformat": 4,
 "nbformat_minor": 5
}
